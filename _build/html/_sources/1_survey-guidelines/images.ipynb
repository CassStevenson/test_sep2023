{
 "cells": [
  {
   "cell_type": "markdown",
   "id": "44677378-6c7f-4bf9-b14a-6c66254758d2",
   "metadata": {},
   "source": [
    "# images"
   ]
  },
  {
   "cell_type": "markdown",
   "id": "edde1aa3-a23b-409c-ab2c-bd2346bffedd",
   "metadata": {},
   "source": [
    ":::{figure} ../0_figures/Survey-guidelines_DetectionProb_SCALE_Hofmeester-et-al.,-2019.png\n",
    ":scale: 70%\n",
    ":align: center\n",
    ":name: fig_9_test\n",
    ":url: https://ab-rcsc.github.io/RCSC-WildCAM_Remote-Camera-Survey-Guidelines-and-Metadata-Standards/\n",
    ":title: This is a test\n",
    ":type: image\n",
    "\n",
    "This is a test\n",
    ":::"
   ]
  },
  {
   "cell_type": "markdown",
   "id": "14bd4483-85bf-45bb-986c-3cf5c7fe5d2f",
   "metadata": {},
   "source": [
    "{numref}`fig_9_test`"
   ]
  },
  {
   "cell_type": "code",
   "execution_count": 22,
   "id": "0c7b0315-a096-4ef7-93f2-4ad90574e6bd",
   "metadata": {},
   "outputs": [
    {
     "data": {
      "text/plain": [
       "'here is some text!'"
      ]
     },
     "metadata": {
      "scrapbook": {
       "mime_prefix": "",
       "name": "cool_text"
      }
     },
     "output_type": "display_data"
    }
   ],
   "source": [
    "from myst_nb import glue\n",
    "my_variable = \"here is some text!\"\n",
    "glue(\"cool_text\", my_variable)"
   ]
  },
  {
   "cell_type": "markdown",
   "id": "e6c3ac1f-5008-4ee3-8d68-c14e811025fa",
   "metadata": {},
   "source": [
    ":::{figure} ../0_figures/SurveyGuidelines_detection_probability-2023-05-04.jpg\n",
    ":height: 700px\n",
    ":align: center\n",
    ":name: fig_1_test\n",
    ":::"
   ]
  },
  {
   "cell_type": "markdown",
   "id": "bec62a47-afad-4505-a300-2959e5c6c1b8",
   "metadata": {},
   "source": [
    ":::{figure} ../0_figures/Survey-guidelines_DetectionProb_SCALE_Hofmeester-et-al.,-2019.png\n",
    ":scale: 70%\n",
    ":align: center\n",
    ":name: fig_1_test\n",
    ":::"
   ]
  },
  {
   "cell_type": "markdown",
   "id": "337cf7f9-8e68-4179-bd01-c148fdd6d56a",
   "metadata": {},
   "source": [
    ":::{figure} ../0_figures/SurveyGuidelines_detection_probability-2023-05-04.jpg\n",
    ":height: 700px\n",
    ":align: center\n",
    ":name: fig_2_test\n",
    ":::"
   ]
  },
  {
   "cell_type": "code",
   "execution_count": 31,
   "id": "5bfed777-8b5b-4538-809e-0f963dcd338c",
   "metadata": {},
   "outputs": [],
   "source": [
    "import ipywidgets as widgets\n",
    "# Creating image widgets for footer\n",
    "fig_3_test = widgets.Image(value=open(\"../0_figures/SurveyGuidelines_detection_probability-2023-05-04.jpg\", \"rb\").read(), format='png', layout=widgets.Layout(height='62px'))\n",
    "from myst_nb import glue\n",
    "glue(\"fig_3_test\", fig_3_test, display=False)"
   ]
  },
  {
   "cell_type": "markdown",
   "id": "a4eeff9a-59aa-4fdd-9f8a-1604e57156e3",
   "metadata": {},
   "source": [
    "```{glue:figure} fig_2_test\n",
    ":figwidth: 300px\n",
    ":name: fig_2_test\n",
    "```"
   ]
  }
 ],
 "metadata": {
  "kernelspec": {
   "display_name": "Python 3 (ipykernel)",
   "language": "python",
   "name": "python3"
  },
  "language_info": {
   "codemirror_mode": {
    "name": "ipython",
    "version": 3
   },
   "file_extension": ".py",
   "mimetype": "text/x-python",
   "name": "python",
   "nbconvert_exporter": "python",
   "pygments_lexer": "ipython3",
   "version": "3.12.5"
  }
 },
 "nbformat": 4,
 "nbformat_minor": 5
}
