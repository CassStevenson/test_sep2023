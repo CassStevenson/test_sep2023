{
 "cells": [
  {
   "cell_type": "markdown",
   "id": "0c3e78b8",
   "metadata": {},
   "source": [
    "(TOC_md_standards_study_area)=\n",
    "# 5.0 Study Area\n",
    "\n",
    "A [**study area**](#study_area) is a unique research, inventory or monitoring area (spatial boundary) within a [project](#project). There may be multiple [study areas](#study_area) within a single [project](#project). Several factors may influence the spatial extent of the [study area](#study_area), including the [Survey Objectives](#survey_objectives), landscape features (e.g., habitat type, land uses, etc.), the biology of the [Target Species](#target_species)' (e.g., dispersal ability, habitat preferences, etc.) and proposed method(s) of data analysis.\n",
    "\n",
    "(TOC_md_standards_study_area_name)=\n",
    "## 5.1 Study Area Name\n",
    "\n",
    "A unique alphanumeric identifier for each [study area](#study_area) (e.g.,\"oilsands_ref1\"). If only one area was surveyed, the [Project Name](#project_name) and [Study Area Name](#study_area_name) should be the same.\n",
    "\n",
    "(TOC_md_standards_study_area_description)=\n",
    "## 5.2 Study Area Description\n",
    "\n",
    "A description for each unique research or monitoring area including its location, habitat type(s), land use(s) and habitat disturbances (where applicable).\n",
    "\n",
    "For example: \"Located in the SE corner of Birch Mountains Wildland Provincial Park in Boreal Highlands subregion. Bogs, pine, aspen and birch forest. No land use disturbance."
   ]
  }
 ],
 "metadata": {
  "editor_options": {
   "markdown": null,
   "wrap": "none"
  },
  "jupytext": {
   "formats": "md:myst",
   "text_representation": {
    "extension": ".md",
    "format_name": "myst",
    "format_version": "0.17.2 <!--0.13-->",
    "jupytext_version": "6.5.4 <!-- 1.16.4-->"
   }
  },
  "kernelspec": {
   "display_name": "Python 3",
   "language": "python",
   "name": "python3"
  },
  "language_info": {
   "codemirror_mode": {
    "name": "ipython",
    "version": 3
   },
   "file_extension": ".py",
   "mimetype": "text/x-python",
   "name": "python",
   "nbconvert_exporter": "python",
   "pygments_lexer": "ipython3",
   "version": "3.12.5"
  },
  "source_map": [
   16
  ]
 },
 "nbformat": 4,
 "nbformat_minor": 5
}