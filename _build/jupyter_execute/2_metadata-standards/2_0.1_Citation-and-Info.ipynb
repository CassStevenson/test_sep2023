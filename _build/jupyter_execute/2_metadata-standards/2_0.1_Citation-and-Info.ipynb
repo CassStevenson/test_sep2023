{
 "cells": [
  {
   "cell_type": "markdown",
   "id": "e6220857",
   "metadata": {},
   "source": [
    "<style>\n",
    "  .bd-main .bd-content .bd-article-container {\n",
    "      max-width: 80%;  /* default is 60em */\n",
    "    }\n",
    "</style>\n",
    "(TOC_md_standards_citation)=\n",
    "# Citation & Information\n",
    "\n",
    "***\n",
    "<br><br>\n",
    "<br><br>\n",
    "<center>\n",
    "\n",
    "<font size=\"7\">**Remote Camera Metadata**</font>\\\n",
    "<br><br>\n",
    "<br><br>\n",
    "<font size=\"5\"> **Standards for Alberta**</font>\\\n",
    "\\\n",
    "\\\n",
    "<font size=\"3\">2024</font>\\\n",
    "\\\n",
    "\\\n",
    "<font size=\"3\">Version 3.0</font>\n",
    "\n",
    "\\\n",
    "\\\n",
    "\\\n",
    "\\\n",
    "\\\n",
    "\\\n",
    "\\\n",
    "<font size=\"3\">Prepared by</font>\\\n",
    "\\\n",
    "<font size=\"3\">Cassondra Stevenson and Anne Hubbs</font>\\\n",
    "\\\n",
    "<font size=\"3\">on behalf of the</font>\\\n",
    "\\\n",
    "<font size=\"3\">Alberta Remote Camera Steering Committee (RCSC)</center></font>\\\n",
    "\\\n",
    "\\\n",
    "\\\n",
    "\\\n",
    "\\\n",
    "\\\n",
    "\\\n",
    "\\\n",
    "\\\n",
    "<br><br>\n",
    "***\n",
    "<br><br>\n",
    "**Remote Camera Metadata Standards: Standards for Alberta**\n",
    "\n",
    "Published by the Alberta Remote Camera Steering Committee (RCSC) and Wildlife Cameras for Adaptive Management (WildCAM)\n",
    "\n",
    "Prepared by Cassondra Stevenson and Anne Hubbs on behalf of the Alberta Remote Camera Steering Committee (RCSC)\\\n",
    "\\\n",
    "\\\n",
    "**Citation for this document:**\\\n",
    "\\\n",
    "Alberta Remote Camera Steering Committee (RCSC). 2024. Remote Camera Metadata Standards: Standards for Alberta. Version 3.0. Edmonton, Alberta.\\\n",
    "\\\n",
    "© Alberta Remote Camera Steering Committee\\\n",
    "\\\n",
    "\\\n",
    "For more information about these guidelines or regarding the Alberta Remote Camera Steering Committee, please email Anne Hubbs ([Anne.Hubbs@gov.ab.ca](mailto:Anne.Hubbs@gov.ab.ca)).\n",
    "\n",
    "For further information about The Fisheries and Wildlife Management Information System (FWMIS), please visit the FWMIS website (<https://www.alberta.ca/fisheries-and-wildlife-management-information-system-overview.aspx>).\n",
    "\n",
    "For further information about WildTrax, please visit the WildTrax website (http://www.wildtrax.ca).\n",
    "<br><br>\n",
    "\n",
    "***"
   ]
  }
 ],
 "metadata": {
  "editor_options": {
   "markdown": null,
   "wrap": "none"
  },
  "jupytext": {
   "formats": "md:myst",
   "text_representation": {
    "extension": ".md",
    "format_name": "myst",
    "format_version": "0.17.2 <!--0.13-->",
    "jupytext_version": "6.5.4 <!-- 1.16.4-->"
   }
  },
  "kernelspec": {
   "display_name": "Python 3",
   "language": "python",
   "name": "python3"
  },
  "language_info": {
   "codemirror_mode": {
    "name": "ipython",
    "version": 3
   },
   "file_extension": ".py",
   "mimetype": "text/x-python",
   "name": "python",
   "nbconvert_exporter": "python",
   "pygments_lexer": "ipython3",
   "version": "3.12.5"
  },
  "source_map": [
   16
  ]
 },
 "nbformat": 4,
 "nbformat_minor": 5
}