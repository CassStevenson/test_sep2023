{
 "cells": [
  {
   "cell_type": "markdown",
   "id": "efe9e9c2",
   "metadata": {},
   "source": [
    "<style>\n",
    ".bd-main .bd-content .bd-article-container {\n",
    "    max-width: 80%;  /* default is 60em */\n",
    "  }\n",
    "</style>\n",
    "(TOC_md_standards_metadata_standards)=\n",
    "# 3.0 Metadata Standards\n",
    "\n",
    "These Remote Camera Metadata Standards propose that remote camera data should be organized according to a hierarchical structure consisting of six levels: ([project](#project), [study area](#study_area), [survey](#survey), [sample station](#sample_station) / [camera location](#camera_location), [deployment](#deployment), and image/[sequence](#sequence)) ([Figure 1](#TOC_md_standards_fig_1)).\n",
    "\n",
    "This hierarchy was adapted from the Camera Trap Metadata Standards (CTMS; Forrester et al. 2016), the [B.C. Metadata Standards](https://www2.gov.bc.ca/assets/gov/environment/natural-resource-stewardship/nr-laws-policy/risc/wcmp_v1.pdf) (RISC, 2019), and [Wildlife Insights Minimum Metadata Standards (Ahumada et al., 2019).](https://docs.google.com/spreadsheets/d/1Jg-WybmVeGlWGrbPpwuwJCgranOV1r3M_LrzELttfK0/edit#gid=412365965)\n",
    "\n",
    "These standards describe the minimum [metadata](#metadata) that should be documented for each of the six levels, as well as how to include optional data fields. Equivalent data fields may appear under different names in different protocols / repositories. To provide user-friendly terminology, a crosswalk table is included ([Appendix A - Table A1](/2_metadata-standards/2_13.0_AppendixA.md#TOC_md_standards_table_a1)) that can be used to match data fields to commonly used protocol/repositories, to further the potential amalgamation of data from Alberta with global remote camera datasets.\n",
    "\n",
    "The process for recording and submitting data involves entering deployment and image/sequence information into a standardized data repository to facilitate long-term storage, prevent data loss and enhance the comparability of remote camera data in Alberta.\n",
    "\n",
    "In Alberta, there are regulatory requirements to submit data to the [FWMIS database](https://www.alberta.ca/fisheries-and-wildlife-management-information-system-overview.aspx) according to existing provincial policies (e.g., Sensitive Species Inventory Protocols, Research and Collection permits). Refer to the Government of Alberta web pages for further information.\n",
    "\n",
    "All fields described in these Remote Camera Metadata Standards are recommended unless stated as optional.\n",
    "\n",
    ":::{figure} ../0_figures/Metadata_Heirarchy_2024-01-22.png\n",
    ":align: center\n",
    ":name: TOC_md_standards_fig_1\n",
    ":::\n",
    "\n",
    "**Figure 1.** Hierarchical structure of remote camera data in the Remote Camera Metadata Standards for Alberta. Based on Forrester et al. (2016), [Wildlife Insights Minimum Metadata Standards](https://docs.google.com/spreadsheets/d/1Jg-WybmVeGlWGrbPpwuwJCgranOV1r3M_LrzELttfK0/edit#gid=412365965) (Ahumada et al., 2019) and the [B.C. Metadata Standards](https://www2.gov.bc.ca/assets/gov/environment/natural-resource-stewardship/nr-laws-policy/risc/wcmp_v1.pdf) (RISC, 2019)."
   ]
  }
 ],
 "metadata": {
  "editor_options": {
   "markdown": null,
   "wrap": "none"
  },
  "jupytext": {
   "formats": "md:myst",
   "text_representation": {
    "extension": ".md",
    "format_name": "myst",
    "format_version": "0.17.2 <!--0.13-->",
    "jupytext_version": "6.5.4 <!-- 1.16.4-->"
   }
  },
  "kernelspec": {
   "display_name": "Python 3",
   "language": "python",
   "name": "python3"
  },
  "language_info": {
   "codemirror_mode": {
    "name": "ipython",
    "version": 3
   },
   "file_extension": ".py",
   "mimetype": "text/x-python",
   "name": "python",
   "nbconvert_exporter": "python",
   "pygments_lexer": "ipython3",
   "version": "3.12.5"
  },
  "source_map": [
   16
  ]
 },
 "nbformat": 4,
 "nbformat_minor": 5
}