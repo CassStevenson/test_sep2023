{
 "cells": [
  {
   "cell_type": "markdown",
   "id": "ae19ded3",
   "metadata": {},
   "source": [
    "(TOC_md_standards_sample_station_camera_location)=\n",
    "# 7.0 Sample Station/Camera Location\n",
    "\n",
    "A **sample station** refers to a grouping of two or more non-independent [camera locations](#camera_location), such as when cameras are [clustered](#sampledesign_clustered) or [paired](#sampledesign_paired). For example, multiple cameras in close proximity to one another for individual animal identification or on/off-trail comparison could be considered a [sample station](#sample_station).\n",
    "\n",
    "Each [sample station](#sample_station) should have its own unique [Sample Station Name](#sample_station_name) (grouping ID). Within a [sample station](#sample_station), each camera will have a unique [Camera Location Name](#camera_location_name) and location (unless multiple cameras are on the same [camera attachment](#camera_attachment) point; e.g., tree).\n",
    "\n",
    "(TOC_md_standards_sample_station_name)=\n",
    "## 7.1 Sample Station Name\n",
    "\n",
    "A sequential alphanumeric identifier for each grouping of two more non-independent [camera locations](#camera_location) (when cameras are deployed in clusters, pairs, or arrays; e.g., \"ss1\" in \"ss1_bh1\", \"ss1_bh2\", \"ss1_bh3\" etc.). Leave blank if not applicable.\n",
    "\n",
    "(TOC_md_standards_camera_location_name)=\n",
    "## 7.2 Camera Location Name\n",
    "\n",
    "A unique alphanumeric identifier for the location where a single camera was placed (e.g., \"bh1\", \"bh2\").\n",
    "\n",
    "(TOC_md_standards_latitude_camera_location)=\n",
    "## 7.3 Latitude Camera Location\n",
    "\n",
    "The latitude of the [camera location](#camera_location) in decimal degrees to five decimal places (e.g., “53.78136”). Leave blank if recording the [Northing Camera Location](#northing_camera_location) instead.\n",
    "\n",
    "(TOC_md_standards_longitude_camera_location)=\n",
    "## 7.4 Longitude Camera Location\n",
    "\n",
    "The longitude of the camera location in decimal degrees to five decimal places (e.g., “-113.46067”). Leave blank if recording the [Easting Camera Location](#easting_camera_location) instead.\n",
    "\n",
    "(TOC_md_standards_northing_camera_location)=\n",
    "## 7.5 Northing Camera Location\n",
    "\n",
    "The northing UTM coordinate of the [camera location](#camera_location) (e.g., “5962006”). Record using the NAD83 datum. Leave blank if recording the [Latitude Camera Location](#latitude_camera_location) instead.\n",
    "\n",
    "(TOC_md_standards_easting_camera_location)=\n",
    "## 7.6 Easting Camera Location\n",
    "\n",
    "The easting UTM coordinate of the [camera location](#camera_location) (e.g., “337875”). Record using the NAD83 datum. Leave blank if recording the [Longitude Camera Location](#longitude_camera_location) instead.\n",
    "\n",
    "(TOC_md_standards_utm_zone_camera_location)=\n",
    "## 7.7 UTM Zone Camera Location\n",
    "\n",
    "The number corresponding to the Universal Transverse Mercator (UTM) grid zone where the camera was placed (e.g., “12”). UTM is a coordinate system that divides the earth into grid zones that are identified with a number (representing a width of latitude) and letter (representing the hemisphere).\n",
    "\n",
    "In Alberta the UTM zones are either 11, 12, or TTM. Enter all other UTM zones in the [Camera Location Comments](#camera_location_comments) field (e.g., zones 7-10 for British Columbia), or use [Latitude Camera Location](#latitude_camera_location) and [Longitude Camera Location](#longitude_camera_location) instead of UTM coordinates.\n",
    "\n",
    "(TOC_md_standards_gps_unit_accuracy)=\n",
    "## 7.8 GPS Unit Accuracy (m)\n",
    "\n",
    "The margin of error of the GPS unit used to record spatial information (e.g., \"5\" [m]), such as the coordinates of the [camera location](#camera_location). On most GPS units (e.g., “Garmin”) this information is provided on the unit's satellite information page. [GPS Unit Accuracy](#gps_unit_accuracy) may vary with the make and model of the GPS unit, surrounding vegetation, infrastructure, atmospheric interference, etc.\n",
    "\n",
    "(TOC_md_standards_camera_location_comments)=\n",
    "## 7.9 Camera Location Comments (optional)\n",
    "\n",
    "Describe any additional details about a [camera location](#camera_location) (e.g., in UTM Zone 7 in British Columbia; aspen-dominated; type of \"Off-Highway Vehicle Trail\" used as a [FOV Target Feature](#fov_target)).\n",
    "\n",
    "If you selected \"Other\" from the [FOV Target Feature](#fov_target) field, provide information about that feature (e.g., 2x4 m high woody debris piles within a cutblock)."
   ]
  }
 ],
 "metadata": {
  "editor_options": {
   "markdown": null,
   "wrap": "none"
  },
  "jupytext": {
   "formats": "md:myst",
   "text_representation": {
    "extension": ".md",
    "format_name": "myst",
    "format_version": "0.17.2 <!--0.13-->",
    "jupytext_version": "6.5.4 <!-- 1.16.4-->"
   }
  },
  "kernelspec": {
   "display_name": "Python 3",
   "language": "python",
   "name": "python3"
  },
  "language_info": {
   "codemirror_mode": {
    "name": "ipython",
    "version": 3
   },
   "file_extension": ".py",
   "mimetype": "text/x-python",
   "name": "python",
   "nbconvert_exporter": "python",
   "pygments_lexer": "ipython3",
   "version": "3.12.5"
  },
  "source_map": [
   16
  ]
 },
 "nbformat": 4,
 "nbformat_minor": 5
}