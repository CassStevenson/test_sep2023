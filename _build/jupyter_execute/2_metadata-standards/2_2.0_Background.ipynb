{
 "cells": [
  {
   "cell_type": "markdown",
   "id": "afe5d67e",
   "metadata": {},
   "source": [
    "<style>\n",
    ".bd-main .bd-content .bd-article-container {\n",
    "    max-width: 80%;  /* default is 60em */\n",
    "  }\n",
    "</style>\n",
    "(TOC_md_standards_background)=\n",
    "# 2.0 Background\n",
    "\n",
    "Remote cameras (or “wildlife cameras” or “camera traps”) are a valuable tool for detecting a wide range of wildlife species (Burton et al., 2015; Lahoz-Monfort & Magrath, 2021; O’Connell et al., 2010). Remote cameras consist of a digital camera with an external flash and/or passive infrared detector (see Lahoz-Monfort & Magrath, 2021; Rovero et al., 2013 for detailed reviews). When animals pass in front of a camera, the sensor is [triggered](#trigger_event), and the resulting images are stamped with the date and time. Date and time stamps are valuable because combining image data with data from Global Positioning Systems (GPS) provides a permanent spatial and temporal record of wildlife occurrences. Although remote cameras are primarily used to detect medium to large-sized mammals, they have also been used to detect small mammals (e.g., Lazenby et al., 2015; Mills et al., 2016; Tschumi et al., 2018) and birds (e.g., Kruger et al., 2018; Lynch et al., 2015; Suwanrat et al., 2015)\n",
    "\n",
    "Remote cameras have been used to measure presence / absence (e.g., Kucera & Barrett, 2011), relative abundance (e.g., Carbone et al., 2001), density of marked (e.g., Karanth et al., 2006) and unmarked (e.g., Becker et al., 2022) animals, population composition (age/sex ratios; e.g., Duquette et al., 2014), species richness / diversity (e.g., Ahumada et al., 2011), habitat use / distribution (e.g., Bowkett et al., 2008; O'Connell et al., 2006; Whittington et al., 2019), diel / seasonal activity patterns (e.g., Frey et al., 2017), individual breeding status (e.g., Fisher et al., 2014; Muhly et al., 2011), and Behaviour (e.g., Holinda et al., 2020; Murray et al., 2016).\n",
    "\n",
    "There has been a global push to standardize the collection of remote camera data (Fegraus et al., 2011; McShea et al., 2020; Meek et al., 2014; Steenweg et al., 2017). Here, we developed a Remote Camera Metadata Standards for Alberta based on the [B.C. Metadata Standards](https://www2.gov.bc.ca/assets/gov/environment/natural-resource-stewardship/nr-laws-policy/risc/wcmp_v1.pdf) (RISC, 2019), the Open Camera Trap Metadata Standard (CTMS; Forrester et al. 2016) and [Wildlife Insights Minimum Metadata Standards](https://docs.google.com/spreadsheets/d/1Jg-WybmVeGlWGrbPpwuwJCgranOV1r3M_LrzELttfK0/edit#gid=412365965) (Ahumada et al., 2019).The Alberta Remote Camera Metadata Standards also builds on the experience of remote camera users in Alberta, British Columbia and other jurisdictions and creates the opportunity for data from Alberta to be integrated with regional, national and global remote camera datasets."
   ]
  }
 ],
 "metadata": {
  "editor_options": {
   "markdown": null,
   "wrap": "none"
  },
  "jupytext": {
   "formats": "md:myst",
   "text_representation": {
    "extension": ".md",
    "format_name": "myst",
    "format_version": "0.17.2 <!--0.13-->",
    "jupytext_version": "6.5.4 <!-- 1.16.4-->"
   }
  },
  "kernelspec": {
   "display_name": "Python 3",
   "language": "python",
   "name": "python3"
  },
  "language_info": {
   "codemirror_mode": {
    "name": "ipython",
    "version": 3
   },
   "file_extension": ".py",
   "mimetype": "text/x-python",
   "name": "python",
   "nbconvert_exporter": "python",
   "pygments_lexer": "ipython3",
   "version": "3.12.5"
  },
  "source_map": [
   16
  ]
 },
 "nbformat": 4,
 "nbformat_minor": 5
}