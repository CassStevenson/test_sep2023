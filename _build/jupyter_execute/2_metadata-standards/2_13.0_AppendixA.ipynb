{
 "cells": [
  {
   "cell_type": "markdown",
   "id": "29ab79a6",
   "metadata": {},
   "source": [
    "(TOC_md_standards_appendix_a)=\n",
    "# Appendix A\n",
    "\n",
    "(#TOC_md_standards_table_a1)=\n",
    "**Appendix A - Table A1**\n",
    "\n",
    "**Appendix A - Table A1.** Metadata crosswalk table showing the corresponding fields used in this Alberta Metadata Standard (2023), and other standards used in Western Canada. An asterisk (\\*) denotes an optional field. Hierarchical levels are shown in bold font above each section.  \n",
    "\n",
    "<object data=\"https://ab-rcsc.github.io/RCSC-WildCAM_Remote-Camera-Survey-Guidelines-and-Metadata-Standards/_downloads/c3843223994ca46cbc30d265b321c3e7/Md_Standards_Appendix-A-Table-A1_v3.pdf\" type=\"application/pdf\" width=\"1120px\" height=\"880px\">\n",
    "    <embed src=\"https://ab-rcsc.github.io/RCSC-WildCAM_Remote-Camera-Survey-Guidelines-and-Metadata-Standards/_downloads/c3843223994ca46cbc30d265b321c3e7/Md_Standards_Appendix-A-Table-A1_v3.pdf\">\n",
    "        <p>This browser does not support PDFs. Please download the PDF to view it: <a href=\"https://ab-rcsc.github.io/RCSC-WildCAM_Remote-Camera-Survey-Guidelines-and-Metadata-Standards/_downloads/c3843223994ca46cbc30d265b321c3e7/Md_Standards_Appendix-A-Table-A1_v3.pdf\">Download PDF</a>.</p>\n",
    "    </embed>\n",
    "</object>  \n",
    "<br/><br/>\n",
    "\n",
    "*Download the PDF*\n",
    "[AB Remote Camera Metadata Standards: Appendix A - Table A1](../0_tables/Md_Standards_Appendix-A-Table-A1_v3.pdf)\n",
    "\n",
    "***  \n",
    "\n",
    "(#TOC_md_standards_table_a2)=\n",
    "**Appendix A - Table A2**\n",
    "\n",
    "**Appendix A - Table A2.** Overview of the structure of the RCSC et al's [Remote Camera Metadata Template (RCSC et al., 2024)](./index.md#FILES_md_standards_metadata_template) including both the data fields recommended by the [Remote Camera Survey Guidelines: Guidelines for Western Canada (RCSC et al., 2024)](./1_survey-guidelines/1_0.1_Citation-and-Info.md#TOC_surv_guidelines_remote_cam_survey_guidelines) and these metadata standards.\n",
    "\n",
    "\n",
    "<object data=\"https://ab-rcsc.github.io/RCSC-WildCAM_Remote-Camera-Survey-Guidelines-and-Metadata-Standards/_downloads/912be8cb65734bb5f72979bd7e0f39a7/Md_Standards_Appendix-A-Table-A2_v3.pdf\" type=\"application/pdf\" width=\"1120px\" height=\"880px\">\n",
    "    <embed src=\"https://ab-rcsc.github.io/RCSC-WildCAM_Remote-Camera-Survey-Guidelines-and-Metadata-Standards/_downloads/912be8cb65734bb5f72979bd7e0f39a7/Md_Standards_Appendix-A-Table-A2_v3.pdf\">\n",
    "        <p>This browser does not support PDFs. Please download the PDF to view it: <a href=\"https://ab-rcsc.github.io/RCSC-WildCAM_Remote-Camera-Survey-Guidelines-and-Metadata-Standards/_downloads/912be8cb65734bb5f72979bd7e0f39a7/Md_Standards_Appendix-A-Table-A2_v3.pdf\">Download PDF</a>.</p>\n",
    "    </embed>\n",
    "</object>  \n",
    "<br/><br/>\n",
    "\n",
    "*Download the PDF*\n",
    "[AB Remote Camera Metadata Standards: Appendix A - Table A2](../0_tables/Md_Standards_Appendix-A-Table-A2_v3.pdf)\n",
    "\n",
    "***"
   ]
  }
 ],
 "metadata": {
  "editor_options": {
   "markdown": null,
   "wrap": "none"
  },
  "jupytext": {
   "formats": "md:myst",
   "text_representation": {
    "extension": ".md",
    "format_name": "myst",
    "format_version": "0.17.2 <!--0.13-->",
    "jupytext_version": "6.5.4 <!-- 1.16.4-->"
   }
  },
  "kernelspec": {
   "display_name": "Python 3",
   "language": "python",
   "name": "python3"
  },
  "language_info": {
   "codemirror_mode": {
    "name": "ipython",
    "version": 3
   },
   "file_extension": ".py",
   "mimetype": "text/x-python",
   "name": "python",
   "nbconvert_exporter": "python",
   "pygments_lexer": "ipython3",
   "version": "3.12.5"
  },
  "source_map": [
   16
  ]
 },
 "nbformat": 4,
 "nbformat_minor": 5
}