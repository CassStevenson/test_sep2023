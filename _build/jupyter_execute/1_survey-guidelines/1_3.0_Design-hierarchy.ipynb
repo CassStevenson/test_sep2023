{
 "cells": [
  {
   "cell_type": "markdown",
   "id": "afcdfca6",
   "metadata": {},
   "source": [
    "(TOC_surv_guidelines_design_hierarchy)=\n",
    "# 3.0 Design hierarchy\n",
    "\n",
    "When designing a remote camera [project](#project) (e.g., scientific study, [inventory](#mods_inventory), or monitoring program), it is helpful to think of the hierarchy of information collected throughout the study. Doing so will:\n",
    "\n",
    "-   help the user align with the [AB Metadata Standards](https://ab-rcsc.github.io/RCSC-WildCAM_Remote-Camera-Survey-Guidelines-and-Metadata-Standards/2_metadata-standards/2_0.1_Citation-and-Info.html) (RCSC, 2024) and [B.C. Metadata Standards](https://www2.gov.bc.ca/assets/gov/environment/natural-resource-stewardship/nr-laws-policy/risc/wcmp_v1.pdf) (RISC, 2019), thus promoting standardized data collection and information sharing;\n",
    "-   provide those designing remote camera studies with the foundational concepts required to align their design with best practices and to implement appropriate data analyses.\n",
    "\n",
    "The [AB Metadata Standards](https://ab-rcsc.github.io/RCSC-WildCAM_Remote-Camera-Survey-Guidelines-and-Metadata-Standards/2_metadata-standards/2_0.1_Citation-and-Info.html) (RCSC, 2024) propose that data should be collected at six broad levels ([project](#project), [study area](#study_area), [survey](#survey), [sample station](#sample_station) / [camera location](#camera_location), [deployment](#deployment), and image/[sequence](#sequence)). This hierarchy was adapted from Forrester et al. (2016) and the [B.C. Metadata Standards](https://www2.gov.bc.ca/assets/gov/environment/natural-resource-stewardship/nr-laws-policy/risc/wcmp_v1.pdf) (RISC, 2019) by adding one more level ([sample station](#sample_station) / [camera location](#camera_location)):\n",
    "\n",
    "-   **Project** – a scientific study, [inventory](#mods_inventory) or monitoring program that has a certain [objective](#survey_objectives), defined methods, and a defined boundary in space and time (recorded as “[Project Name](#project_name)“).\n",
    "\n",
    "-   **Study area** – a unique research, [inventory](#mods_inventory) or monitoring area(s) (spatial boundary) within a [project](#project) (there may be multiple [study areas](#study_area) within a single [project](#project)) (recorded as “[Study Area Name](#study_area_name)“).\n",
    "\n",
    "-   **Survey** – a unique deployment period (temporal extent) within a [project](#project) (recorded as “[Survey Name](#survey_name)“).\n",
    "\n",
    "-   **Sample station / Camera location**\n",
    "\n",
    "\t-   **Sample station** – a grouping of two or more non-independent [camera locations](#camera_location), such as when cameras are clustered or paired (recorded as “[Sample Station Name](#sample_station_name)“)\n",
    "\n",
    "    -   **Camera location** – the location where a single camera was placed (recorded as \"[Camera Location Name](#camera_location_name)\").\n",
    "\n",
    "-   **Deployment** – a unique placement of a camera in space and time (recorded as “[Deployment Name](#deployment_name)“). There may be multiple deployments for one [camera location](#camera_location). Deployments are often considered as the time between visits (i.e., deployment to service, service to service, and service to retrieval). Any change to [camera location](#camera_location), sampling period, camera equipment (e.g., [Trigger Sensitivity](#settings_trigger_sensitivity) setting, becomes non-functioning), and/or conditions (e.g., not baited then baited later; camera SD card replaced) should be documented as a unique [deployment](#deployment).\n",
    "\n",
    "-   **Image/sequence**\n",
    "\n",
    "    -   **Image** – an individual image captured by a camera, which may be part of a multi-image [sequence](#sequence) (recorded as “[Image Name](#image_name)“).\n",
    "\n",
    "    -   **Sequence** – a user-defined group of images or video clips considered as a single “[detection event](#detection_event)“ (recorded as \"[Sequence Name](#sequence_name)); often users choose a certain time threshold (or “[inter-detection interval](#glossary)“) to define [independent ‘events,’](#detection_event) e.g., 30 minutes (O’Brien et al., 2003; Gerber et al., 2010; Kitamura et al., 2010; Samejima et al., 2012) or 1 hour (e.g., Tobler et al., 2008; Rovero & Marshall, 2009). The threshold should be recorded in the [Survey Design Description](#survey_design_description)).\n",
    "\n",
    "::: {note}\n",
    "These levels do not equate to individual CSV files. Refer to the [AB Metadata Standards](https://ab-rcsc.github.io/RCSC-WildCAM_Remote-Camera-Survey-Guidelines-and-Metadata-Standards/2_metadata-standards/2_0.1_Citation-and-Info.html) (RCSC, 2024) for more information.\n",
    ":::"
   ]
  }
 ],
 "metadata": {
  "editor_options": {
   "markdown": null,
   "wrap": "none"
  },
  "jupytext": {
   "formats": "md:myst",
   "text_representation": {
    "extension": ".md",
    "format_name": "myst",
    "format_version": "0.17.2 <!--0.13-->",
    "jupytext_version": "6.5.4 <!-- 1.16.4-->"
   }
  },
  "kernelspec": {
   "display_name": "Python 3",
   "language": "python",
   "name": "python3"
  },
  "language_info": {
   "codemirror_mode": {
    "name": "ipython",
    "version": 3
   },
   "file_extension": ".py",
   "mimetype": "text/x-python",
   "name": "python",
   "nbconvert_exporter": "python",
   "pygments_lexer": "ipython3",
   "version": "3.12.5"
  },
  "source_map": [
   16
  ]
 },
 "nbformat": 4,
 "nbformat_minor": 5
}