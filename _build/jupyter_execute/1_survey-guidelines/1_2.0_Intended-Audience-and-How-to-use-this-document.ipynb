{
 "cells": [
  {
   "cell_type": "markdown",
   "id": "e99acf0e",
   "metadata": {},
   "source": [
    "(TOC_surv_guidelines_intended_audience_and_how_to_use_this_document)=\n",
    "# 2.0 Intended Audience and How to use this document\n",
    "\n",
    "The purpose of the Remote Camera Survey Guidelines is to provide recommendations on study design and implementation (including equipment and deployment recommendations) for novice to advanced users of remote cameras in Western Canada in a format aligned with standardized methods for [metadata](#metadata) reporting. The intended audience for this document includes consultants, researchers, and wildlife biologists working for government, non-government agencies and industry.\n",
    "\n",
    "Summary tables, step-by-step procedures, and field data sheets have been provided in [Appendix A](/1_survey-guidelines/1_10.2_AppendixA-Field-Datasheets.md#TOC_surv_guidelines_appendix_a_field_datasheets) to help readers quickly locate and distill key information. There is also a useful decision tree for selecting [density](#density) models for remote camera data in [Appendix B - Figure B1](/1_survey-guidelines/1_11.0_AppendixB-FigureB1.md/#TOC_surv_guidelines_appendix_b) (Clarke et al. [2022] adapted from Gilbert et al. [2021] and Sun [unpublished]). This document addresses the more common [modelling approaches](#mods_modelling_approach) (e.g., species diversity and richness, [occupancy](#occupancy), relative abundance, and [density](#density)). Research is ongoing to test the different approaches and to develop new methods. Refer to [WildCAM’s resource library](https://wildcams.ca/library/camera-trapping-papers-directory/) and the sources provided for more information on the different approaches. For information on other methods, please refer to the literature (e.g., [intensity of use](#intensity_of_use) [Keim et al., 2019, 2021]; resource selection functions [Manly et al., 1993] etc.).\n",
    "\n",
    "The goal of this document is to support consistency in the collection of remote camera data across western Canada by offering guidance on the appropriate study design, camera [deployment](#deployment) methods and data management.\n",
    "\n",
    "There are several benefits to having standardized methods for remote cameras, including:\n",
    "\n",
    "-   Enabling province-wide consistency and reliability in data collection;\n",
    "\n",
    "-   Enabling data consolidation amongst [projects](#project) and enhancing the ability to answer large-scale management / research questions;\n",
    "\n",
    "-   Facilitating comparison between [surveys](#survey) or studies;\n",
    "\n",
    "-   Promoting higher-quality data, which facilitates data sharing and tracking;\n",
    "\n",
    "-   Enhancing common design standards for reproducible research;\n",
    "\n",
    "-   Allowing for efficient [project](#project) and data review;\n",
    "\n",
    "-   Ensuring [project](#project) planning meets required government and research institute standards.\n",
    "\n",
    "The information provided in these guidelines is intended to be as prescriptive as possible to support consistency in data collection while allowing for flexibility where needed. The [deployment](#deployment) of remote cameras following this standard can help establish a robust foundation for camera programs. These guidelines build on the experiences of remote camera specialists in Alberta, British Columbia and other jurisdictions and should help guide camera users, even where no regulatory requirements exist.\n",
    "\n",
    "Two companion documents exist, the [Remote Camera Metadata: Standards for Alberta](https://ab-rcsc.github.io/RCSC-WildCAM_Remote-Camera-Survey-Guidelines-and-Metadata-Standards/2_metadata-standards/2_0.1_Citation-and-Info.html) (Alberta Remote Camera Steering Committee [RCSC], 2024; “AB Metadata Standards” hereafter) and [Wildlife](https://www2.gov.bc.ca/assets/gov/environment/natural-resource-stewardship/nr-laws-policy/risc/wcmp_v1.pdf) [Camera Metadata Protocol: Standards for Components of British Columbia’s Biodiversity No. 44](https://www2.gov.bc.ca/assets/gov/environment/natural-resource-stewardship/nr-laws-policy/risc/wcmp_v1.pdf) (RISC, 2019; “B.C. Metadata Standards” hereafter), which should be viewed alongside this document to establish a clear and consistent understanding of the recommendations and requirements. The [AB Metadata Standards](https://ab-rcsc.github.io/RCSC-WildCAM_Remote-Camera-Survey-Guidelines-and-Metadata-Standards/2_metadata-standards/2_0.1_Citation-and-Info.html) (RCSC, 2024), as well as this Remote Camera Survey Guidelines, are available online (https://ab-rcsc.github.io/RCSC-WildCAM_Remote-Camera-Survey-Guidelines-and-Metadata-Standards/index.html), and on the [WildTrax](https://www.wildtrax.ca/home/resources/methods-and-protocols.html) and [Wildlife Cameras for Adaptive Management (WildCAM)](https://wildcams.ca/library/other-organizations-protocols/) webpages. The [B.C. Metadata Standards](https://www2.gov.bc.ca/assets/gov/environment/natural-resource-stewardship/nr-laws-policy/risc/wcmp_v1.pdf) (RISC, 2019) are available on the [WildCAM](https://wildcams.ca/library/other-organizations-protocols) and [B.C. Government’s](https://www2.gov.bc.ca/gov/content/environment/natural-resource-stewardship/laws-policies-standards-guidance/inventory-standards/terrestrial-ecosystems-biodiversity) webpages.\n",
    "\n",
    "(TOC_surv_guidelines_supporting_documents)=\n",
    "## 2.1 Supporting documents\n",
    "\n",
    "Additional to the [AB Metadata Standards](https://ab-rcsc.github.io/RCSC-WildCAM_Remote-Camera-Survey-Guidelines-and-Metadata-Standards/2_metadata-standards/2_0.1_Citation-and-Info.html) (RCSC, 2024) and [B.C. Metadata Standards](https://www2.gov.bc.ca/assets/gov/environment/natural-resource-stewardship/nr-laws-policy/risc/wcmp_v1.pdf) (RISC, 2019), there are several other supporting documents that are consistent with these guidelines and standards, including the following:\n",
    "\n",
    "-   Remote Camera Survey Guidelines supporting documents:\n",
    "\n",
    "    -   Camera Deployment Field Datasheet (RCSC et al., 2024)\n",
    "    \n",
    "    -   Camera Service/Retrieval Field Datasheet (RCSC et al., 2024),\n",
    "    \n",
    "    -   Test Image Sheet (RCSC et al., 2024),\n",
    "    \n",
    "    -   Survey123 Template (RCSC et al., 2024), and\n",
    "    \n",
    "    -   [EpiCollect Template](https://five.epicollect.net/project/rcsc-and-wildcam-remote-camera-survey-guidelines) (RCSC et al., 2024)\n",
    "\n",
    "-   [Alberta Remote Camera Metadata Standards: Metadata Template (RCSC, 2024)](/index.md#FILES_surv_guidelines_datasheet_deployment)\n",
    "\n",
    "Copies of the [Camera Deployment Field Datasheet](/1_survey-guidelines/1_10.2_AppendixA-Field-Datasheets.md#FILES_surv_guidelines_datasheet_deployment)), [Test Image Sheet](/1_survey-guidelines/1_10.2_AppendixA-Field-Datasheets.md#TOC_surv_guidelines_datasheet_test_image_sheet) and [Camera Service/Retrieval Field Datasheet](/1_survey-guidelines/1_10.2_AppendixA-Field-Datasheets.md#datasheet_service_retrieval) are also available within this document in [Appendix A.](/1_survey-guidelines/1_10.2_AppendixA-Field-Datasheets.md#TOC_surv_guidelines_appendix_a_field_datasheets)"
   ]
  }
 ],
 "metadata": {
  "editor_options": {
   "markdown": null,
   "wrap": "none"
  },
  "jupytext": {
   "formats": "md:myst",
   "text_representation": {
    "extension": ".md",
    "format_name": "myst",
    "format_version": "0.17.2 <!--0.13-->",
    "jupytext_version": "6.5.4 <!-- 1.16.4-->"
   }
  },
  "kernelspec": {
   "display_name": "Python 3",
   "language": "python",
   "name": "python3"
  },
  "language_info": {
   "codemirror_mode": {
    "name": "ipython",
    "version": 3
   },
   "file_extension": ".py",
   "mimetype": "text/x-python",
   "name": "python",
   "nbconvert_exporter": "python",
   "pygments_lexer": "ipython3",
   "version": "3.12.5"
  },
  "source_map": [
   16
  ]
 },
 "nbformat": 4,
 "nbformat_minor": 5
}