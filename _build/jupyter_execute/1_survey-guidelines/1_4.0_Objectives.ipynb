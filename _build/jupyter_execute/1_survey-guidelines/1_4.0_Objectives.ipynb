{
 "cells": [
  {
   "cell_type": "markdown",
   "id": "3472d68a",
   "metadata": {},
   "source": [
    "<style>\n",
    ".bd-main .bd-content .bd-article-container {\n",
    "    max-width: 80%;  /* default is 60em */\n",
    "  }\n",
    "</style>\n",
    "(TOC_surv_guidelines_objectives)=\n",
    "# 4.0 Objectives\n",
    "\n",
    "An essential first step when designing any [survey](#survey) is to clearly define its [objectives](#survey_objectives). [Survey Objectives](#survey_objectives) should be specific, measurable, achievable, relevant and time-bound (i.e., SMART). [Survey Objectives](#survey_objectives) should describe the following:\n",
    "\n",
    "-   [Target Species](#target_species) - the species that the [survey](#survey) is designed to detect,\n",
    "\n",
    "-   [State variable(s)](#state_variable) - a formal measure that summarizes the state of a community or population at a particular time (Wearn & Glover-Kapfer, 2017) (e.g., species richness or population abundance), and\n",
    "\n",
    "-   Proposed [modelling approach(es)](#mods_modelling_approach) - the method used to analyze the camera data, which should depend on the [state variable](#state_variable) (e.g., [occupancy models](#mods_occupancy) [MacKenzie et al., 2002], [spatially explicit capture-recapture (SECR) models](#mods_scr_secr) [e.g., Royle et al., 2009] for [density](#density) estimation, etc.) and the [Target Species](#target_species). To learn more about the different [modelling approaches](#mods_modelling_approach), refer to [Appendix A - Table A1](/1_survey-guidelines/1_10.1_AppendixA-Tables.md#TOC_surv_guidelines_table_a1), [Appendix A - Table A2](/1_survey-guidelines/1_10.1_AppendixA-Tables.md#TOC_surv_guidelines_table_a2), and [WildCAM’s resource library](https://wildcams.ca/library/camera-trapping-papers-directory/).\n",
    "\n",
    "An example of a clearly defined [Survey Objective](#survey_objectives) could be “to monitor trends in wolverine [occupancy](#occupancy) at 5-year intervals from March – December 2020 to 2030 in wildlife management unit 539”.\n",
    "\n",
    "The [Survey Objective](#survey_objectives) will determine the appropriate [study design](#survey) and [deployment](#deployment) considerations (e.g., [camera spacing](#camera_spacing), [survey](#survey) effort, attractants or not). For example, based on the above objective for our wolverine [occupancy](#occupancy) [project](#project), we “randomly selected [camera locations](#camera_location) within a 15 km x 15 km grid cell with one camera per location and a total of 60 stations across our [study area](#study_area). We will place [lure](#baitlure_lure) dispensers at each [camera location](#camera_location) to increase the likelihood of detecting a wolverine.” to increase the likelihood of detecting a wolverine.”"
   ]
  }
 ],
 "metadata": {
  "editor_options": {
   "markdown": null,
   "wrap": "none"
  },
  "jupytext": {
   "formats": "md:myst",
   "text_representation": {
    "extension": ".md",
    "format_name": "myst",
    "format_version": "0.17.2 <!--0.13-->",
    "jupytext_version": "6.5.4 <!-- 1.16.4-->"
   }
  },
  "kernelspec": {
   "display_name": "Python 3",
   "language": "python",
   "name": "python3"
  },
  "language_info": {
   "codemirror_mode": {
    "name": "ipython",
    "version": 3
   },
   "file_extension": ".py",
   "mimetype": "text/x-python",
   "name": "python",
   "nbconvert_exporter": "python",
   "pygments_lexer": "ipython3",
   "version": "3.12.5"
  },
  "source_map": [
   16
  ]
 },
 "nbformat": 4,
 "nbformat_minor": 5
}