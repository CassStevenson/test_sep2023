{
 "cells": [
  {
   "cell_type": "markdown",
   "id": "4c4b531f",
   "metadata": {},
   "source": [
    "<style>\n",
    "  .bd-main .bd-content .bd-article-container {\n",
    "      max-width: 80%;  /* default is 60em */\n",
    "    }\n",
    "  </style>\n",
    "(TOC_surv_guidelines_toc)= \n",
    "# Table of Contents\n",
    "\n",
    "[Acknowledgments](/1_survey-guidelines/1_0.2_Acknowledgments.md#TOC_surv_guidelines_acknowledgments)<br>\n",
    "[Table of Contents](/1_survey-guidelines/1_0.3_TOC.md#TOC_surv_guidelines_toc)<br>\n",
    "[List of Tables](/1_survey-guidelines/1_0.4_List-Tables-Figures.md#TOC_surv_guidelines_list_tables)<br>\n",
    "[List of Figures](/1_survey-guidelines/1_0.4_List-Tables-Figures.md#TOC_surv_guidelines_list_figures)<br>\n",
    "[1.0 Background](/1_survey-guidelines/1_1.0_Background.md#TOC_surv_guidelines_background)<br>\n",
    "[2.0 Intended Audience and How to use this document](/1_survey-guidelines/1_2.0_Intended-Audience-and-How-to-use-this-document.md#TOC_surv_guidelines_intended_audience_and_how_to_use_this_document)<br>\n",
    "<font color='#FFFFFF'>............</font>[2.1 Supporting documents](/1_survey-guidelines/1_2.0_Intended-Audience-and-How-to-use-this-document.md#TOC_surv_guidelines_supporting_documents)<br>\n",
    "[3.0 Design hierarchy](/1_survey-guidelines/1_3.0_Design-hierarchy.md#TOC_surv_guidelines_design_hierarchy)<br>\n",
    "[4.0 Objectives](/1_survey-guidelines/1_4.0_Objectives.md#TOC_surv_guidelines_objectives)<br>\n",
    "[5.0 Detection probability](/1_survey-guidelines/1_5.0_Detection-probability.md#TOC_surv_guidelines_detection_probability)<br>\n",
    "[6.0 Study design](/1_survey-guidelines/1_6.0_Study-design.md#TOC_surv_guidelines_study_design)<br>\n",
    "<font color='#FFFFFF'>............</font>[6.1 Study area](/1_survey-guidelines/1_6.0_Study-design.md#TOC_surv_guidelines_study_area)<br>\n",
    "<font color='#FFFFFF'>............</font>[6.2 Site selection and camera arrangement](/1_survey-guidelines/1_6.0_Study-design.md#TOC_surv_guidelines_site_selection_and_camera_arrangement)<br>\n",
    "<font color='#FFFFFF'>........................</font>[6.2.1 Random (or “simple random”) design](/1_survey-guidelines/1_6.0_Study-design.md#TOC_surv_guidelines_random)<br>\n",
    "<font color='#FFFFFF'>........................</font>[6.2.2 Systematic design](/1_survey-guidelines/1_6.0_Study-design.md#TOC_surv_guidelines_systematic)<br>\n",
    "<font color='#FFFFFF'>........................</font>[6.2.3 Stratified design](/1_survey-guidelines/1_6.0_Study-design.md#TOC_surv_guidelines_stratified)<br>\n",
    "<font color='#FFFFFF'>........................</font>[6.2.4 Clustered / Paired designs](/1_survey-guidelines/1_6.0_Study-design.md#TOC_surv_guidelines_clustered_paired)<br>\n",
    "<font color='#FFFFFF'>........................</font>[6.2.5 Targeted design](/1_survey-guidelines/1_6.0_Study-design.md#TOC_surv_guidelines_targeted)<br>\n",
    "<font color='#FFFFFF'>........................</font>[6.2.6 Convenience design](/1_survey-guidelines/1_6.0_Study-design.md#TOC_surv_guidelines_convenience)<br>\n",
    "<font color='#FFFFFF'>........................</font>[6.2.7 Pseudoreplication](/1_survey-guidelines/1_6.0_Study-design.md#TOC_surv_guidelines_pseudoreplication)<br>\n",
    "<font color='#FFFFFF'>............</font>[6.3 Camera spacing](/1_survey-guidelines/1_6.0_Study-design.md#TOC_surv_guidelines_camera_spacing)<br>\n",
    "<font color='#FFFFFF'>........................</font>[6.3.1 Modelling approach](/1_survey-guidelines/1_6.0_Study-design.md#TOC_surv_guidelines_modelling_approach)<br>\n",
    "<font color='#FFFFFF'>........................</font>[6.3.2 Avoidance behaviour](/1_survey-guidelines/1_6.0_Study-design.md#TOC_surv_guidelines_avoidance_behaviour)<br>\n",
    "<font color='#FFFFFF'>........................</font>[6.3.3 Site closure assumption](/1_survey-guidelines/1_6.0_Study-design.md#TOC_surv_guidelines_site_closure_assumption)<br>\n",
    "<font color='#FFFFFF'>............</font>[6.4 Survey effort and timing](/1_survey-guidelines/1_6.0_Study-design.md#TOC_surv_guidelines_survey_effort_and_timing)<br>\n",
    "<font color='#FFFFFF'>........................</font>[6.4.1 Survey effort -- Number of cameras](/1_survey-guidelines/1_6.0_Study-design.md#TOC_surv_guidelines_survey_effort_number_of_cameras)<br>\n",
    "<font color='#FFFFFF'>........................</font>[6.4.2 Survey effort -- Camera days per camera location](/1_survey-guidelines/1_6.0_Study-design.md#TOC_surv_guidelines_survey_effort_camera_days_per_camera_location)<br>\n",
    "<font color='#FFFFFF'>........................</font>[6.4.3 Survey effort -- Total number of camera days](/1_survey-guidelines/1_6.0_Study-design.md#TOC_surv_guidelines_survey_effort_total_number_of_camera_days)<br>\n",
    "<font color='#FFFFFF'>........................</font>[6.4.4 Species rarity](/1_survey-guidelines/1_6.0_Study-design.md#TOC_surv_guidelines_species_rarity)<br>\n",
    "<font color='#FFFFFF'>........................</font>[6.4.5 Number of cameras vs. Camera days per camera location](/1_survey-guidelines/1_6.0_Study-design.md#TOC_surv_guidelines_number_of_camera_vs_camera_days_per_camera_location)<br>\n",
    "<font color='#FFFFFF'>........................</font>[6.4.6 Survey timing](/1_survey-guidelines/1_6.0_Study-design.md#TOC_surv_guidelines_survey_timing)<br>\n",
    "[7.0 Camera deployment](/1_survey-guidelines/1_7.0_Camera-deployment.md#TOC_surv_guidelines_camera_deployment)<br>\n",
    "<font color='#FFFFFF'>............</font>[7.1 Camera hardware options](/1_survey-guidelines/1_7.0_Camera-deployment.md#TOC_surv_guidelines_camera_hardware_options)<br>\n",
    "<font color='#FFFFFF'>........................</font>[7.1.1 Battery type](/1_survey-guidelines/1_7.0_Camera-deployment.md#TOC_surv_guidelines_battery_type)<br>\n",
    "<font color='#FFFFFF'>........................</font>[7.1.2 SD cards](/1_survey-guidelines/1_7.0_Camera-deployment.md#TOC_surv_guidelines_sd_cards)<br>\n",
    "<font color='#FFFFFF'>........................</font>[7.2 Camera settings](/1_survey-guidelines/1_7.0_Camera-deployment.md#TOC_surv_guidelines_camera_settings)<br>\n",
    "<font color='#FFFFFF'>........................</font>[7.2.1 Photos *vs.* video](/1_survey-guidelines/1_7.0_Camera-deployment.md#TOC_surv_guidelines_photos_vs_video)<br>\n",
    "<font color='#FFFFFF'>........................</font>[7.2.2 Trigger Mode(s) - Time-lapse \\*vs.\\* motion detector](/1_survey-guidelines/1_7.0_Camera-deployment.md#TOC_surv_guidelines_trigger_modes_timelapse_vs_motion_detector)<br>\n",
    "<font color='#FFFFFF'>........................</font>[7.2.3 Trigger Sensitivity, Photos Per Trigger, Motion Image Interval and Quiet Period](/1_survey-guidelines/1_7.0_Camera-deployment.md#TOC_surv_guidelines_trigger_sensitivity_photos_per_trigger_motion_image_interval_and_quiet_period)<br>\n",
    "<font color='#FFFFFF'>............</font>[7.3 Attractants *vs.* no attractants](/1_survey-guidelines/1_7.0_Camera-deployment.md#TOC_surv_guidelines_attractants_vs_no_attractants)<br>\n",
    "<font color='#FFFFFF'>............</font>[7.4 Camera placement](/1_survey-guidelines/1_7.0_Camera-deployment.md#TOC_surv_guidelines_camera_placement)<br>\n",
    "<font color='#FFFFFF'>........................</font>[7.4.1 FOV Target Feature](/1_survey-guidelines/1_7.0_Camera-deployment.md#TOC_surv_guidelines_fov_target_feature)<br>\n",
    "<font color='#FFFFFF'>........................</font>[7.4.2 Camera Height](/1_survey-guidelines/1_7.0_Camera-deployment.md#TOC_surv_guidelines_camera_height)<br>\n",
    "<font color='#FFFFFF'>........................</font>[7.4.3 Camera angle](/1_survey-guidelines/1_7.0_Camera-deployment.md#TOC_surv_guidelines_camera_angle)<br>\n",
    "<font color='#FFFFFF'>........................</font>[7.4.4 Camera Direction](/1_survey-guidelines/1_7.0_Camera-deployment.md#TOC_surv_guidelines_camera_direction)<br>\n",
    "<font color='#FFFFFF'>........................</font>[7.4.5 Field of View (FOV) and Walktest](/1_survey-guidelines/1_7.0_Camera-deployment.md#TOC_surv_guidelines_fov_and_walktest)<br>\n",
    "<font color='#FFFFFF'>........................</font>[7.4.6 Test image](/1_survey-guidelines/1_7.0_Camera-deployment.md#TOC_surv_guidelines_test_image)<br>\n",
    "<font color='#FFFFFF'>........................</font>[7.4.7 Deployment Area Photos (optional)](/1_survey-guidelines/1_7.0_Camera-deployment.md#TOC_surv_guidelines_deployment_area_photos)<br>\n",
    "<font color='#FFFFFF'>........................</font>[7.4.8 Camera Location Characteristics](/1_survey-guidelines/1_7.0_Camera-deployment.md#TOC_surv_guidelines_camera_location_characteristics)<br>\n",
    "<font color='#FFFFFF'>........................</font>[7.4.9 Field equipment](/1_survey-guidelines/1_7.0_Camera-deployment.md#TOC_surv_guidelines_field_equipment)<br>\n",
    "<font color='#FFFFFF'>............</font>[7.5 Metadata](/1_survey-guidelines/1_7.0_Camera-deployment.md#TOC_surv_guidelines_metadata)<br>\n",
    "<font color='#FFFFFF'>........................</font>[7.5.1 Metadata -- Deployment, Service and Retrieval](/1_survey-guidelines/1_7.0_Camera-deployment.md#TOC_surv_guidelines_metadata_deployment_service_retrieval)<br>\n",
    "<font color='#FFFFFF'>........................</font>[7.5.2 Spatial information](/1_survey-guidelines/1_7.0_Camera-deployment.md#TOC_surv_guidelines_metadata_spatial_information)<br>\n",
    "<font color='#FFFFFF'>........................</font>[7.5.3 SD card retrieval](/1_survey-guidelines/1_7.0_Camera-deployment.md#TOC_surv_guidelines_metadata_sd_card_retrieval)<br>\n",
    "[8.0 Data management and processing](/1_survey-guidelines/1_8.0_Data-management-and-processing.md#TOC_surv_guidelines_data_management-and-processing)<br>\n",
    "<font color='#FFFFFF'>............</font>[8.1 Software and tools](/1_survey-guidelines/1_8.0_Data-management-and-processing.md#TOC_surv_guidelines_software_tools)<br>\n",
    "<font color='#FFFFFF'>............</font>[8.2 Data storage (archival)](/1_survey-guidelines/1_8.0_Data-management-and-processing.md#TOC_surv_guidelines_data_storage_archival)<br>\n",
    "<font color='#FFFFFF'>............</font>[8.3 Image processing](/1_survey-guidelines/1_8.0_Data-management-and-processing.md#TOC_surv_guidelines_image_processing)<br>\n",
    "<font color='#FFFFFF'>........................</font>[8.3.1 Image names](/1_survey-guidelines/1_8.0_Data-management-and-processing.md#TOC_surv_guidelines_image_names)<br>\n",
    "<font color='#FFFFFF'>........................</font>[8.3.2 Image classification and tagging](/1_survey-guidelines/1_8.0_Data-management-and-processing.md#TOC_surv_guidelines_image_classification_tagging)<br>\n",
    "<font color='#FFFFFF'>........................</font>[8.3.3 Use of artificial intelligence (MegaDetector)](/1_survey-guidelines/1_8.0_Data-management-and-processing.md#TOC_surv_guidelines_use_of_artificial_intelligence_megadetector)<br>\n",
    "<font color='#FFFFFF'>........................</font>[8.3.4 Human images](/1_survey-guidelines/1_8.0_Data-management-and-processing.md#TOC_surv_guidelines_human_images)<br>\n",
    "<font color='#FFFFFF'>............</font>[8.4 Data analysis](/1_survey-guidelines/1_8.0_Data-management-and-processing.md#TOC_surv_guidelines_data_analysis)<br>\n",
    "<font color='#FFFFFF'>............</font>[8.5 Useful websites](/1_survey-guidelines/1_8.0_Data-management-and-processing.md#TOC_surv_guidelines_useful_websites)<br>\n",
    "[9.0 References](/1_survey-guidelines/1_9.0_References.md#TOC_surv_guidelines_references)<br>\n",
    "[10.0 Appendix A - Tables](/1_survey-guidelines/1_10.1_AppendixA-Tables.md#TOC_surv_guidelines_appendix_a_tables)<br>\n",
    "[11.0 Appendix A - Field Datasheets](/1_survey-guidelines/1_10.1_AppendixA-Tables.md#TOC_surv_guidelines_appendix_a_field_datasheets)<br>\n",
    "[12.0 Appendix B](/1_survey-guidelines/1_11.0_AppendixB-FigureB1.md#TOC_surv_guidelines_appendix_b)"
   ]
  }
 ],
 "metadata": {
  "editor_options": {
   "markdown": null,
   "wrap": "none"
  },
  "jupytext": {
   "formats": "md:myst",
   "text_representation": {
    "extension": ".md",
    "format_name": "myst",
    "format_version": "0.17.2 <!--0.13-->",
    "jupytext_version": "6.5.4 <!-- 1.16.4-->"
   }
  },
  "kernelspec": {
   "display_name": "Python 3",
   "language": "python",
   "name": "python3"
  },
  "language_info": {
   "codemirror_mode": {
    "name": "ipython",
    "version": 3
   },
   "file_extension": ".py",
   "mimetype": "text/x-python",
   "name": "python",
   "nbconvert_exporter": "python",
   "pygments_lexer": "ipython3",
   "version": "3.12.5"
  },
  "source_map": [
   16
  ]
 },
 "nbformat": 4,
 "nbformat_minor": 5
}