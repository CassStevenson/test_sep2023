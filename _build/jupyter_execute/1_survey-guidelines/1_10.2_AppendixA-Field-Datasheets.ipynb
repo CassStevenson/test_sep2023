{
 "cells": [
  {
   "cell_type": "markdown",
   "id": "600dad02",
   "metadata": {},
   "source": [
    "<style>\n",
    "  .bd-main .bd-content .bd-article-container {\n",
    "      max-width: 80%;  /* default is 60em */\n",
    "    }\n",
    "</style>\n",
    "(TOC_surv_guidelines_appendix_a_field_datasheets)=\n",
    "# Appendix A - Field Datasheets\n",
    "\n",
    "***  \n",
    "\n",
    "(TABLES_surv_guidelines_datasheet_deployment)=\n",
    "## Camera Deployment Field Datasheet\n",
    "\n",
    "<object data=\"https://ab-rcsc.github.io/RCSC-WildCAM_Remote-Camera-Survey-Guidelines-and-Metadata-Standards/_downloads/b174248ec4623c88d02c345f16a74681/RCSC-WildCAM_RC-Survey-Guidelines-v2_Deployment-Datasheet_2024-04-01.pdf\" type=\"application/pdf\" width=\"880px\" height=\"1130px\">\n",
    "    <embed src=\"https://ab-rcsc.github.io/RCSC-WildCAM_Remote-Camera-Survey-Guidelines-and-Metadata-Standards/_downloads/b174248ec4623c88d02c345f16a74681/RCSC-WildCAM_RC-Survey-Guidelines-v2_Deployment-Datasheet_2024-04-01.pdf\">\n",
    "        <p>This browser does not support PDFs. Please download the PDF to view it: <a href=\"https://ab-rcsc.github.io/RCSC-WildCAM_Remote-Camera-Survey-Guidelines-and-Metadata-Standards/_downloads/b174248ec4623c88d02c345f16a74681/RCSC-WildCAM_RC-Survey-Guidelines-v2_Deployment-Datasheet_2024-04-01.pdf\">Download PDF</a>.</p>\n",
    "    </embed>\n",
    "</object>  \n",
    "<br/><br/>\n",
    "\n",
    "*Download the PDF*\n",
    "[Remote Camera Survey Guidelines: Camera Deployment Field Datasheet (RCSC et al., 2024)](../0_files/RCSC-WildCAM_RC-Survey-Guidelines-v2_Deployment-Datasheet_2024-04-01.pdf)\n",
    "***  \n",
    "\n",
    "(TABLES_surv_guidelines_datasheet_test_image_sheet)=\n",
    "## Test Image Sheet\n",
    "\n",
    "<object data=\"https://ab-rcsc.github.io/RCSC-WildCAM_Remote-Camera-Survey-Guidelines-and-Metadata-Standards/_downloads/5ad3ba013a47b9356a97613a6fb7e88b/RCSC-WildCAM_RC-Survey-Guidelines-v2_Test-Image-Sheet_2024-04-01.pdf\" type=\"application/pdf\" width=\"1000px\" height=\"820px\">\n",
    "    <embed src=\"https://ab-rcsc.github.io/RCSC-WildCAM_Remote-Camera-Survey-Guidelines-and-Metadata-Standards/_downloads/5ad3ba013a47b9356a97613a6fb7e88b/RCSC-WildCAM_RC-Survey-Guidelines-v2_Test-Image-Sheet_2024-04-01.pdf\">\n",
    "        <p>This browser does not support PDFs. Please download the PDF to view it: <a href=\"https://ab-rcsc.github.io/RCSC-WildCAM_Remote-Camera-Survey-Guidelines-and-Metadata-Standards/_downloads/5ad3ba013a47b9356a97613a6fb7e88b/RCSC-WildCAM_RC-Survey-Guidelines-v2_Test-Image-Sheet_2024-04-01.pdf\">Download PDF</a>.</p>\n",
    "    </embed>\n",
    "</object>   \n",
    "<br/><br/>\n",
    "\n",
    "*Download the PDF*\n",
    "[Remote Camera Survey Guidelines: Test Image Sheet (RCSC et al., 2024)](../0_files/RCSC-WildCAM_RC-Survey-Guidelines-v2_Test-Image-Sheet_2024-04-01.pdf)\n",
    "\n",
    "***  \n",
    "\n",
    "(TABLES_surv_guidelines_datasheet_service_retrieval)=\n",
    "## Camera Service/Retrieval Field Datasheet\n",
    "\n",
    "<object data=\"https://ab-rcsc.github.io/RCSC-WildCAM_Remote-Camera-Survey-Guidelines-and-Metadata-Standards/_downloads/93877de72e7891567471b13959d60a2c/RCSC-WildCAM_RC-Survey-Guidelines-v2_ServiceRetrieval-Datasheet_2024-04-01.pdf\" type=\"application/pdf\" width=\"880px\" height=\"1130px\">\n",
    "    <embed src=\"https://ab-rcsc.github.io/RCSC-WildCAM_Remote-Camera-Survey-Guidelines-and-Metadata-Standards/_downloads/93877de72e7891567471b13959d60a2c/RCSC-WildCAM_RC-Survey-Guidelines-v2_ServiceRetrieval-Datasheet_2024-04-01.pdf\">\n",
    "        <p>This browser does not support PDFs. Please download the PDF to view it: <a href=\"https://ab-rcsc.github.io/RCSC-WildCAM_Remote-Camera-Survey-Guidelines-and-Metadata-Standards/_downloads/93877de72e7891567471b13959d60a2c/RCSC-WildCAM_RC-Survey-Guidelines-v2_ServiceRetrieval-Datasheet_2024-04-01.pdf\">Download PDF</a>.</p>\n",
    "    </embed>\n",
    "</object> \n",
    "<br/><br/>\n",
    "\n",
    "<div>\n",
    "  <div style=\"position:relative;padding-top:56.25%;\">\n",
    "    <iframe src=\"https://ab-rcsc.github.io/RCSC-WildCAM_Remote-Camera-Survey-Guidelines-and-Metadata-Standards/_downloads/93877de72e7891567471b13959d60a2c/RCSC-WildCAM_RC-Survey-Guidelines-v2_ServiceRetrieval-Datasheet_2024-04-01.pdf\" frameborder=\"0\" allowfullscreen\n",
    "      style=\"position:absolute;top:0;left:0;width:100%;height:100%;\"></iframe>\n",
    "  </div>\n",
    "</div>\n",
    "\n",
    "\n",
    "*Download the PDF*\n",
    "[Remote Camera Survey Guidelines: Camera Service/Retrieval Field Datasheet (RCSC et al., 2024)](../0_files/RCSC-WildCAM_RC-Survey-Guidelines-v2_ServiceRetrieval-Datasheet_2024-04-01.pdf)\n",
    "\n",
    "***"
   ]
  }
 ],
 "metadata": {
  "editor_options": {
   "markdown": null,
   "wrap": "none"
  },
  "jupytext": {
   "formats": "md:myst",
   "text_representation": {
    "extension": ".md",
    "format_name": "myst",
    "format_version": "0.17.2 <!--0.13-->",
    "jupytext_version": "6.5.4 <!-- 1.16.4-->"
   }
  },
  "kernelspec": {
   "display_name": "Python 3",
   "language": "python",
   "name": "python3"
  },
  "language_info": {
   "codemirror_mode": {
    "name": "ipython",
    "version": 3
   },
   "file_extension": ".py",
   "mimetype": "text/x-python",
   "name": "python",
   "nbconvert_exporter": "python",
   "pygments_lexer": "ipython3",
   "version": "3.12.5"
  },
  "source_map": [
   16
  ]
 },
 "nbformat": 4,
 "nbformat_minor": 5
}