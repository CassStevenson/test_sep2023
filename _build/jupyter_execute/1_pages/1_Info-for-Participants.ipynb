{
 "cells": [
  {
   "cell_type": "markdown",
   "id": "d8f67884",
   "metadata": {},
   "source": [
    "# Info for Participants\n",
    "\n",
    "````{div} full-width\n",
    "\n",
    "<object data=\"https://ab-rcsc.github.io/GOA_Ungulate-monitoring-methods-workshop/_downloads\n",
    "/da43668173720fac13561dd06ca200f9/Information-Package-for-Participants-May-7-2024.pdf\" type=\"application/pdf\" width=\"880px\" height=\"1120px\">\n",
    "    <embed src=\"https://ab-rcsc.github.io/GOA_Ungulate-monitoring-methods-workshop/_downloads\n",
    "/da43668173720fac13561dd06ca200f9/Information-Package-for-Participants-May-7-2024.pdf\">\n",
    "        <p>This browser does not support PDFs. Please download the PDF to view it: <a href=\"https://ab-rcsc.github.io/GOA_Ungulate-monitoring-methods-workshop/_downloads\n",
    "/da43668173720fac13561dd06ca200f9/Information-Package-for-Participants-May-7-2024.pdf\">Download PDF</a>.</p>\n",
    "    </embed>\n",
    "</object>   \n",
    "\n",
    "*Download the PDF* [Information for Participants - GOA Ungulate monitoring methods workshop](./files/Information-Package-for-Participants-May-7-2024.pdf)                                                       \n",
    "\n",
    "***\n",
    "````\n",
    "\n",
    "# Participant Contact Information\n",
    "\n",
    "````{div} full-width\n",
    "\n",
    "<object data=\"https://ab-rcsc.github.io/GOA_Ungulate-monitoring-methods-workshop/_downloads\n",
    "/5b00a9ead79367491265b25fed971216/Participant-Contact-Info.pdf\" type=\"application/pdf\" width=\"1020px\" height=\"880px\">\n",
    "    <embed src=\"https://ab-rcsc.github.io/GOA_Ungulate-monitoring-methods-workshop/_downloads\n",
    "/5b00a9ead79367491265b25fed971216/Participant-Contact-Info.pdf\">\n",
    "        <p>This browser does not support PDFs. Please download the PDF to view it: <a href=\"https://ab-rcsc.github.io/GOA_Ungulate-monitoring-methods-workshop/_downloads\n",
    "/5b00a9ead79367491265b25fed971216/Participant-Contact-Info.pdf\">Download PDF</a>.</p>\n",
    "    </embed>\n",
    "</object>  \n",
    "\n",
    "[*Download the PDF*](./files/Participant-Contact-Info.pdf)  \n",
    "\n",
    "[*Download the XLS*](./files/Workshop-Participants-Contact-Information.xlsx)\n",
    "\n",
    "````"
   ]
  }
 ],
 "metadata": {
  "editor_options": {
   "markdown": {
    "wrap": "none"
   }
  },
  "jupytext": {
   "formats": "md:myst",
   "text_representation": {
    "extension": ".md",
    "format_name": "myst",
    "format_version": "1.16",
    "jupytext_version": "1.16.1"
   }
  },
  "kernelspec": {
   "display_name": "Python 3",
   "language": "python",
   "name": "python3"
  },
  "language_info": {
   "codemirror_mode": {
    "name": "ipython",
    "version": 3
   },
   "file_extension": ".py",
   "mimetype": "text/x-python",
   "name": "python",
   "nbconvert_exporter": "python",
   "pygments_lexer": "ipython3",
   "version": "3.12.3"
  },
  "source_map": [
   16
  ]
 },
 "nbformat": 4,
 "nbformat_minor": 5
}