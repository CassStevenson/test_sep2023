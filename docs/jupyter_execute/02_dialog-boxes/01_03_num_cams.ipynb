{
 "cells": [
  {
   "cell_type": "markdown",
   "id": "e6ffa890",
   "metadata": {},
   "source": [
    "(i_num_cams)=\n",
    "# {{ title_i_num_cams }}\n",
    "\n",
    ":::{note}\n",
    "If you only have a set number of cameras to deploy (e.g., 30), select “Yes” and enter the number of cameras in the numeric field.\n",
    "\n",
    "If you aren’t limited by a certain number of cameras, select “No” and leave the numeric field blank. \n",
    "\n",
    "If you’re unsure about how many cameras you have or you would like to see all of the options (irrelevant of the number of cameras; e.g., to be gauge your options and/or to determine the number of cameras you need), you can also select “No.”\n",
    ":::\n",
    "\n",
    ":::::::{tab-set}\n",
    "\n",
    "::::::{tab-item} Overview\n",
    "**<font size=\"4\"><span style=\"color:#2F5496\">How does this relate to study design?</font></span>**\n",
    "\n",
    "The number of cameras available will impact the appropriate modelling approaches (in combination with other aspects of your study, such as the detectability and/or rarity of your [Target Species](#target_species)) or the number of covariates you hope to include in your models.\n",
    "\n",
    "For example, 30 cameras may be enough to evaluate \"occupancy\" if your [Target Species](#target_species)) is relatively common, however, if your target species is rare, more sites will be required in order for your estimates to be reasonably precise ({{ ref_intext_shannon_et_al_2014 }}; {{ ref_intext_kays_et_al_2020 }}; {{ ref_intext_wearn_gloverkapfer_2017 }}). More sites will be needed if covariates on occupancy or detection probability are to be added into models ({{ ref_intext_wearn_gloverkapfer_2017 }}).\n",
    "\n",
    ":::{seealso}\n",
    "You can refer to [Appendix A - Table A2](https://ab-rcsc.github.io/RCSC-WildCAM_Remote-Camera-Survey-Guidelines-and-Metadata-Standards/1_survey-guidelines/1_10.1_AppendixA-Tables.html) to get a sense of the required number of cameras for each of the modelling approaches and according to the [Survey Objectives](#survey_objectives).\n",
    "\n",
    "**RCSC et al. (2024) - Appendix A - Table A2.** Summary of appropriate [study design](#survey), [camera spacing](#camera_spacing), and [survey](#survey) effort (adapted from Wearn & Glover-Kapfer [2017] with additional references included) for various [modelling approaches](#mods_modelling_approach). **Note:** these guidelines use the best available information, however, there is uncertainty associated with each approach. To address this, the table contains ‘minimum,’ ‘ideal’ and ‘often’ used values, as well as qualifiers.\n",
    "\n",
    "<div>\n",
    "  <div style=\"position:relative;padding-top:56.25%;\">\n",
    "    <iframe src=\" https://ab-rcsc.github.io/RCSC-WildCAM_Remote-Camera-Survey-Guidelines-and-Metadata-Standards/_downloads/a2c4924f22f971faa27c706b8bb6dd0a/Surv_Guidelines_AppendixA-Table-A2_v2.pdf\" loading=\"lazy\" frameborder=\"0\" allowfullscreen\n",
    "      style=\"position:absolute;top:0;left:0;width:100%;height:100%;\"></iframe>\n",
    "  </div>\n",
    "</div>\n",
    "\n",
    "[*Download the PDF*]( https://ab-rcsc.github.io/RCSC-WildCAM_Remote-Camera-Survey-Guidelines-and-Metadata-Standards/_downloads/a2c4924f22f971faa27c706b8bb6dd0a/Surv_Guidelines_AppendixA-Table-A2_v2.pdf)\n",
    ":::\n",
    "\n",
    "\n",
    "::::::\n",
    "\n",
    "::::::{tab-item} In-depth\n",
    "This section will be available soon! In the meantime, check out the information in the other tabs!\n",
    "\n",
    ":::{figure} ../03_images/03_image_files/00_coming_soon.png\n",
    ":width: 300px\n",
    ":align: center\n",
    ":::\n",
    ":::::\n",
    "\n",
    "::::::\n",
    "\n",
    "::::::{tab-item} References\n",
    "{{ ref_bib_colyn_et_al_2018 }}\n",
    "\n",
    "{{ ref_bib_efford_boulanger_2019 }}\n",
    "\n",
    "{{ ref_bib_kays_et_al_2020 }}\n",
    "\n",
    "{{ ref_bib_oconnor_et_al_2017 }}\n",
    "\n",
    "{{ ref_bib_pease_et_al_2016 }}\n",
    "\n",
    "{{ ref_bib_rcsc_et_al_2024 }}\n",
    "\n",
    "{{ ref_bib_rovero_et_al_2013 }}\n",
    "\n",
    "{{ ref_bib_stokeld_et_al_2016 }}\n",
    "\n",
    "{{ ref_bib_wearn_gloverkapfer_2017 }}\t\n",
    "::::::\n",
    "\n",
    ":::::::"
   ]
  }
 ],
 "metadata": {
  "editor_options": {
   "markdown": null,
   "wrap": "none"
  },
  "jupytext": {
   "formats": "md:myst",
   "text_representation": {
    "extension": ".md",
    "format_name": "myst",
    "format_version": "0.17.2 <!--0.13-->",
    "jupytext_version": "1.16.4 <!-- 6.5.4-->"
   }
  },
  "kernelspec": {
   "display_name": "Python 3",
   "language": "python",
   "name": "python3"
  },
  "language_info": {
   "codemirror_mode": {
    "name": "ipython",
    "version": 3
   },
   "file_extension": ".py",
   "mimetype": "text/x-python",
   "name": "python",
   "nbconvert_exporter": "python",
   "pygments_lexer": "ipython3",
   "version": "3.12.5"
  },
  "source_map": [
   16
  ]
 },
 "nbformat": 4,
 "nbformat_minor": 5
}