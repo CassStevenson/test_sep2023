{
 "cells": [
  {
   "cell_type": "markdown",
   "id": "afa042ad",
   "metadata": {},
   "source": [
    "# Remote Camera Survey Guidelines & AB Metadata Standards\n",
    "\n",
    "## Updates\n",
    "\n",
    ":::{admonition} July 4, 2024\n",
    ":class: dropdown\n",
    "\n",
    "- **July 4, 2024**\n",
    "\n",
    "  - **New version - EpiCollect Template & JSON file**\n",
    "     - A new version of the EpiCollect is available online.\n",
    "     - You can find a JSON file below that can be imported into EpiCollect to create an editable version of the template managed under your EpiCollect account.\n",
    "\n",
    "  - **New version - Metadata Template**\n",
    "     - Since Epicollect limits the character length for field names, the field codes do not completely align with the field codes in the Metadata Template. Therefore the metadata template has also been updated to include a \"field_code_epicollect\" in the \"legend_md_standards_surv_guidel\" tab, to support users in cross-walking data fields when using this template.\n",
    "     - The data field options previously excluded in the \"data_validation\" tab of the metadata template have now been included. The previously excluded fields were those not required in \"Alberta Remote Camera Metadata Standards\", but included in the \"Remote Camera Survey Guidelines.\"\n",
    "\n",
    "  - **Version crosswalk**\n",
    "     - You can now find a crosswalk of the data fields in the current and previous versions of the Metadata Template.\n",
    "     \n",
    "  - See [\"Downloads & Links\"](#download_links) section below for all updated files/links.\n",
    "  \n",
    ":::\n",
    "\n",
    "***\n",
    "\n",
    "(download_links)=\n",
    "## Download files / Access templates\n",
    "\n",
    ":::{seealso}\n",
    ":class: dropdown \n",
    "[Download everything](./0_files/RC-Survey-Guidelines-v2_AB-Metadata-Standards-v3_2024-07-04.zip)\n",
    "\n",
    "\n",
    "**Remote Camera Survey Guidelines: Guidelines for Western Canada**\n",
    "\n",
    "(#FILES_surv_guidelines_remote_cam_survey_guidelines)=\n",
    "[Remote Camera Survey Guidelines: Guidelines for Western Canada v1 (RCSC et al., 2024)](./0_files/RCSC-WildCAM_RC-Survey-Guidelines-v2_2024-04-01.pdf)\n",
    "\n",
    "(#FILES_surv_guidelines_datasheet_deployment)=\n",
    "[Remote Camera Survey Guidelines: Camera Deployment Field Datasheet (RCSC et al., 2024)](./0_files/RCSC-WildCAM_RC-Survey-Guidelines-v2_Deployment-Datasheet_2024-04-01.pdf)\n",
    "\n",
    "(#FILES_surv_guidelines_datasheet_test_image_sheet)=\n",
    "[Remote Camera Survey Guidelines: Test Image Sheet (RCSC et al., 2024)](./0_files/RCSC-WildCAM_RC-Survey-Guidelines-v2_Test-Image-Sheet_2024-04-01.pdf)\n",
    "\n",
    "(#FILES_surv_guidelines_datasheet_service_retrieval)=\n",
    "[Remote Camera Survey Guidelines: Camera Service/Retrieval Field Datasheet (RCSC et al., 2024)](./0_files/RCSC-WildCAM_RC-Survey-Guidelines-v2_ServiceRetrieval-Datasheet_2024-04-01.pdf)\n",
    "\n",
    "(#FILES_surv_guidelines_epicollect_template)=\n",
    "[Remote Camera Survey Guidelines: EpiCollect Template (RCSC et al., 2024)](https://five.epicollect.net/project/rcsc-and-wildcam-remote-camera-survey-guidelines)\n",
    "\n",
    "(#FILES_surv_guidelines_epicollect_template_json)=\n",
    "[Remote Camera Survey Guidelines: EpiCollect Template JSON (RCSC et al., 2024)](./0_files/RCSC_AB-RC-Metadata-Standards-v3_EpiCollect-Template_2024-07-04.json)\n",
    "\n",
    "***\n",
    "\n",
    "**Remote Camera Metadata Standards: Standards for Alberta**\n",
    "\n",
    "(#FILES_md_standards_ab_metadata_standards)=\n",
    "[Remote Camera Metadata Standards: Standards for Alberta v3 (RCSC, 2024)](./0_files/RCSC_AB-RC-Metadata-Standards-v3_2024-07-04.pdf)\n",
    "\n",
    "(#FILES_md_standards_metadata_template)=\n",
    "[Alberta Remote Camera Metadata Standards: Metadata Template (RCSC, 2024)](./0_files/RCSC_AB-RC-Metadata-Standards-v3_Metadata-Template_2024-07-04.xlsm)\n",
    "\n",
    "(#FILES_md_standards_version_crosswalk)=\n",
    "[Alberta Remote Camera Metadata Standards: Version Crosswalk (RCSC, 2024)](./0_files/RC-Survey-Guidelines-AB-Metadata-Standards_VersionCrosswalk_2024-04-01.xlsx)\n",
    "\n",
    ":::\n",
    "\n",
    "*** \n",
    "\n",
    "## Tables of Content\n",
    "\n",
    "```{tableofcontents}\n",
    "```\n",
    "\n",
    "***"
   ]
  }
 ],
 "metadata": {
  "editor_options": {
   "markdown": null,
   "wrap": "none"
  },
  "jupytext": {
   "formats": "md:myst",
   "text_representation": {
    "extension": ".md",
    "format_name": "myst",
    "format_version": "0.17.2 <!--0.13-->",
    "jupytext_version": "6.5.4 <!-- 1.16.4-->"
   }
  },
  "kernelspec": {
   "display_name": "Python 3",
   "language": "python",
   "name": "python3"
  },
  "language_info": {
   "codemirror_mode": {
    "name": "ipython",
    "version": 3
   },
   "file_extension": ".py",
   "mimetype": "text/x-python",
   "name": "python",
   "nbconvert_exporter": "python",
   "pygments_lexer": "ipython3",
   "version": "3.12.5"
  },
  "source_map": [
   16
  ]
 },
 "nbformat": 4,
 "nbformat_minor": 5
}