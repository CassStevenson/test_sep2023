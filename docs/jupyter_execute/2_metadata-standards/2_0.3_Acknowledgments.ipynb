{
 "cells": [
  {
   "cell_type": "markdown",
   "id": "18bb4fa3",
   "metadata": {},
   "source": [
    "<style>\n",
    ".bd-main .bd-content .bd-article-container {\n",
    "    max-width: 80%;  /* default is 60em */\n",
    "  }\n",
    "</style>\n",
    "(TOC_md_standards_acknowledgments)=\n",
    "# Acknowledgments\n",
    "\n",
    "We would like to honour and acknowledge that work contributed by the RCSC took place on the traditional and ancestral land of the nêhiyaw (nay-hee-yow)/Cree, Denesuline (dene-su-lee-neh)/Dene (deh-neyh), Niitsitapi (nit-si-tahp-ee)/Blackfoot, Anishinaabe (ah-nish-in-ah-bay)/Saulteaux (so-toe), Nakota Sioux (na-koh-tah sue), and Métis’ (may-tee) Peoples since time immemorial, and we recognize this history.\n",
    "\n",
    "We sincerely thank the Government of British Columbia for the use of their [B.C. Metadata Standards](https://www2.gov.bc.ca/assets/gov/environment/natural-resource-stewardship/nr-laws-policy/risc/wcmp_v1.pdf) (RISC, 2019), which formed the basis for the Alberta Remote Camera Metadata Standards. The [B.C. Metadata Standards](https://www2.gov.bc.ca/assets/gov/environment/natural-resource-stewardship/nr-laws-policy/risc/wcmp_v1.pdf) (RISC, 2019) pulled concepts from the Camera Trap Metadata Standards (CTMS; Forrester et al. 2016).\n",
    "\n",
    "Thank you to the Alberta Biodiversity Monitoring Institute (Kat Villeneuve, Corrina Copp, and Monica Kohler) who prepared the original (version 1.0) Alberta Remote Camera Metadata Standards (2022) with guidance from the Alberta Remote Camera Steering Committee (RCSC).\n",
    "\n",
    "These Alberta Remote Camera Metadata Standards have been updated to align, where possible, with the most recent versions of other Metadata Standards (e.g., Wildlife Insights \\[Ahumada et al., 2019\\], [WildTrax](https://portal.wildtrax.ca)). By standardizing data collection and reporting of remote camera data within and across jurisdictions, we enhance collaborative opportunities to address large-scale management / research questions at regional, national and even global scales.\n",
    "\n",
    "This document was greatly improved by reviewers from across British Columbia and Alberta. A special thanks to Lonnie Bilyk, Resource Data Biologist with Alberta Environment and Protected Areas for his insights.\n",
    "\n",
    "All decisions regarding these standards are the responsibility of the Alberta RCSC."
   ]
  }
 ],
 "metadata": {
  "editor_options": {
   "markdown": null,
   "wrap": "none"
  },
  "jupytext": {
   "formats": "md:myst",
   "text_representation": {
    "extension": ".md",
    "format_name": "myst",
    "format_version": "0.17.2 <!--0.13-->",
    "jupytext_version": "6.5.4 <!-- 1.16.4-->"
   }
  },
  "kernelspec": {
   "display_name": "Python 3",
   "language": "python",
   "name": "python3"
  },
  "language_info": {
   "codemirror_mode": {
    "name": "ipython",
    "version": 3
   },
   "file_extension": ".py",
   "mimetype": "text/x-python",
   "name": "python",
   "nbconvert_exporter": "python",
   "pygments_lexer": "ipython3",
   "version": "3.12.5"
  },
  "source_map": [
   16
  ]
 },
 "nbformat": 4,
 "nbformat_minor": 5
}