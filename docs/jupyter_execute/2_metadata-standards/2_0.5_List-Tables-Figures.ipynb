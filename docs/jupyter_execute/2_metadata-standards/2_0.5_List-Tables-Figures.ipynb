{
 "cells": [
  {
   "cell_type": "markdown",
   "id": "e291ab59",
   "metadata": {},
   "source": [
    "(TOC_md_standards_list_tables_figures)=\n",
    "# List of Tables & List of Figures\n",
    "\n",
    "(TOC_md_standards_list_tables)=\n",
    "## List of Tables\n",
    "\n",
    "[**Appendix A - Table A1.**](/2_metadata-standards/2_13.0_AppendixA.md#TOC_md_standards_table_a1) Metadata crosswalk table showing the corresponding fields used in this Alberta Metadata Standard (2024), and other standards used in Western Canada. An asterisk (\\*) denotes an optional field. Hierarchical levels are shown in bold font above each section.\n",
    "\n",
    "[**Appendix A - Table A2.**](/2_metadata-standards/2_13.0_AppendixA.md#TOC_md_standards_table_a2) Overview of the structure of the RCSC et al’s Remote Camera Metadata Template (2024) including both the data fields recommended by the Remote Camera Survey Guidelines: Guidelines for Western Canada (RCSC et al., 2024) and these metadata standards.\n",
    "\n",
    "\n",
    "(TOC_md_standards_list_figures)=\n",
    "## List of Figures\n",
    "\n",
    "[**Figure 1.**](/2_metadata-standards/2_3.0_Metadata-Standards.md#TOC_md_standards_fig_1) Hierarchical structure of remote camera data in the Remote Camera Metadata Standards for Alberta. Based on Forrester et al. (2016), Wildlife Insights Minimum Metadata Standards (Ahumada et al., 2019) and the B.C. Metadata Standards (RISC, 2019).\n",
    "\n",
    "[**Figure 2.**](/2_metadata-standards/2_10.0_Data-Management.md#TOC_md_standards_fig_2) Example of the recommended file structure and naming conventions for a project that consisted of two study areas, each with one survey and each survey with two camera locations with one deployment period and 2 sequences per camera location.\n",
    "\n",
    "[**Figure 3.**](/2_metadata-standards/2_10.0_Data-Management.md#TOC_md_standards_fig_3) The hierarchical structure of remote camera data in the Remote Camera Metadata Standards for Alberta (based on Forrester et al. (2016), Wildlife Insights Minimum Metadata Standards (Ahumada et al., 2019) and the B.C. Metadata Standards (RISC, 2019) and the linkages with and within the four CSVs included in these metadata standards (\"Project CSV,\" \"Sample Station/Camera Location CSV,\" \"Deployment CSV,\" and the \"Image/Sequence CSV\")."
   ]
  }
 ],
 "metadata": {
  "editor_options": {
   "markdown": null,
   "wrap": "none"
  },
  "jupytext": {
   "formats": "md:myst",
   "text_representation": {
    "extension": ".md",
    "format_name": "myst",
    "format_version": "0.17.2 <!--0.13-->",
    "jupytext_version": "6.5.4 <!-- 1.16.4-->"
   }
  },
  "kernelspec": {
   "display_name": "Python 3",
   "language": "python",
   "name": "python3"
  },
  "language_info": {
   "codemirror_mode": {
    "name": "ipython",
    "version": 3
   },
   "file_extension": ".py",
   "mimetype": "text/x-python",
   "name": "python",
   "nbconvert_exporter": "python",
   "pygments_lexer": "ipython3",
   "version": "3.12.5"
  },
  "source_map": [
   16
  ]
 },
 "nbformat": 4,
 "nbformat_minor": 5
}