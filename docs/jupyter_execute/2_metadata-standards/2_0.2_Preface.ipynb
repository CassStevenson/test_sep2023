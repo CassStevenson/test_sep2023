{
 "cells": [
  {
   "cell_type": "markdown",
   "id": "cea245dd",
   "metadata": {},
   "source": [
    "<style>\n",
    ".bd-main .bd-content .bd-article-container {\n",
    "    max-width: 80%;  /* default is 60em */\n",
    "  }\n",
    "</style>\n",
    "(TOC_md_standards_preface)=\n",
    "# Preface\n",
    "\n",
    "These standards were developed by members of the Alberta Remote Camera Steering Committee (RCSC) in collaboration with the Alberta Biodiversity Monitoring Institute (ABMI).\n",
    "\n",
    "The Alberta RCSC is chaired by Alberta Environment and Protected Areas and comprises a group of remote camera experts from academia, government and not-for-profit organizations who aim to advance the science of remote camera monitoring and research while facilitating collaboration and knowledge sharing among remote camera users in Alberta.\n",
    "\n",
    "The objective of these Remote Camera Metadata Standards is to provide guidance on the types of data that should be collected and reported when using remote cameras (or “wildlife cameras” or “camera traps”) to detect wildlife in Alberta. Consistent collection of remote camera data supports data consolidation and, accordingly, the creation of large spatiotemporal datasets on wildlife distributions across Alberta. This provides opportunities to answer research and monitoring questions within and across jurisdictions, and ultimately at national and global scales. Aiming to align metadata collection standards across western Canada, this document heavily relied on the [Wildlife Camera Metadata Protocol: Standards for Components of British Columbia's Biodiversity No. 44](https://www2.gov.bc.ca/assets/gov/environment/natural-resource-stewardship/nr-laws-policy/risc/wcmp_v1.pdf) (RISC, 2019; “B.C. Metadata Standards” hereafter). The Alberta Standards also follow a hierarchical structure similar to that of the [B.C. Metadata Standards](https://www2.gov.bc.ca/assets/gov/environment/natural-resource-stewardship/nr-laws-policy/risc/wcmp_v1.pdf) (RISC, 2019) and [Wildlife Insights](https://www.wildlifeinsights.org/) (Ahumada et al., 2019).\n",
    "\n",
    "A companion document to this standard, the [Remote Camera Survey Guidelines: Guidelines for Western Canada (RCSC et al., 2024)](https://cassstevenson.github.io/RCSC-WildCAM_Remote-Camera-Survey-Guidelines-and-Metadata-Standards/intro.html), should be viewed alongside these standards. The guidelines offer advice on appropriate study / Survey Designs, camera deployment methods and data management. They were developed by the Alberta Remote Camera Steering Committee (RCSC) in collaboration with the Alberta Biodiversity Monitoring Institute (ABMI) and [Wildlife Cameras for Adaptive Management (WildCAM](https://wildcams.ca/about-us/); <https://wildcams.ca/about-us/>)."
   ]
  }
 ],
 "metadata": {
  "editor_options": {
   "markdown": null,
   "wrap": "none"
  },
  "jupytext": {
   "formats": "md:myst",
   "text_representation": {
    "extension": ".md",
    "format_name": "myst",
    "format_version": "0.17.2 <!--0.13-->",
    "jupytext_version": "6.5.4 <!-- 1.16.4-->"
   }
  },
  "kernelspec": {
   "display_name": "Python 3",
   "language": "python",
   "name": "python3"
  },
  "language_info": {
   "codemirror_mode": {
    "name": "ipython",
    "version": 3
   },
   "file_extension": ".py",
   "mimetype": "text/x-python",
   "name": "python",
   "nbconvert_exporter": "python",
   "pygments_lexer": "ipython3",
   "version": "3.12.5"
  },
  "source_map": [
   16
  ]
 },
 "nbformat": 4,
 "nbformat_minor": 5
}