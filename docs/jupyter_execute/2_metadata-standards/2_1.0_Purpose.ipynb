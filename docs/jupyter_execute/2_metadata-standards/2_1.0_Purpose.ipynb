{
 "cells": [
  {
   "cell_type": "markdown",
   "id": "cbc3cd92",
   "metadata": {},
   "source": [
    "(TOC_md_standards_purpose)=\n",
    "# 1.0 Purpose\n",
    "\n",
    "The purpose of these Remote Camera Metadata Standards is to provide guidance on the types of data that should be collected and documented when using remote cameras to detect wildlife.\n",
    "\n",
    "There are several benefits to having standardized methods for collection and reporting of metadata, including:\n",
    "\n",
    "-   Enabling province-wide consistency and reliability in data collection;\n",
    "-   Enabling data consolidation amongst [projects](#project) and enhancing the ability to answer large-scale management / research questions;\n",
    "-   Facilitating comparison between surveys or studies;\n",
    "-   Promoting higher quality of data which facilitates data sharing and tracking;\n",
    "-   Enhancing common design standards for reproducible research;\n",
    "-   Allowing for efficient [project](#project) and data review; and\n",
    "-   Ensuring [projects](#project) planning meets required government and research institute standards.\n",
    "\n",
    "A companion document exists, the [Remote Camera Survey Guidelines: Guidelines for Western Canada](https://ab-rcsc.github.io/RCSC-WildCAM_Remote-Camera-Survey-Guidelines-and-Metadata-Standards/1_survey-guidelines/1_0.1_Citation-and-Info.html) (RCSC et al., 2024; “Remote Camera Survey Guidelines” hereafter), that should be viewed alongside these standards. The purpose of the Guidelines is to provide information on study /Survey Design and implementation (including equipment and deployment recommendations) for novice to advanced users of remote cameras. The intended audience includes consultants, researchers, and wildlife biologists working for government, non-government agencies and industry.\n",
    "\n",
    "(TOC_md_standards_supporting_documents)=\n",
    "## 1.2 Supporting documents\n",
    "\n",
    "There are several other supporting documents that are consistent with these standards and the [Remote Camera Survey Guidelines](https://ab-rcsc.github.io/RCSC-WildCAM_Remote-Camera-Survey-Guidelines-and-Metadata-Standards/1_survey-guidelines/1_0.1_Citation-and-Info.html) (RCSC et al., 2024), including the following:\n",
    "\n",
    "-   Remote Camera Survey Guidelines (RCSC et al., 2024) supporting documents:\n",
    "    -   Camera Deployment Field Datasheet (RCSC et al., 2024)\n",
    "    -   Camera Service/Retrieval Field Datasheet (RCSC et al., 2024),\n",
    "    -   Test Image Sheet (RCSC et al., 2024),\n",
    "    -   Survey123 Template (RCSC et al., 2024; aGvailable in summer of 2024), and\n",
    "    -   [EpiCollect Template](https://five.epicollect.net/project/rcsc-and-wildcam-remote-camera-survey-guidelines) (RCSC et al., 2024) (<https://five.epicollect.net/project/rcsc-and-wildcam-remote-camera-survey-guidelines>)\n",
    "-   [Alberta](https://docs.google.com/spreadsheets/d/1D0dIQY1pu5rwxHs_HC-0bRXScWWE7A2O/edit?usp=drive_link&ouid=104398155365933821384&rtpof=true&sd=true) [Remote Camera Metadata Standards: Metadata Template v3](https://ab-rcsc.github.io/RCSC-WildCAM_Remote-Camera-Survey-Guidelines-and-Metadata-Standards/1_survey-guidelines/1_0.1_Citation-and-Info.html) (RCSC, 2024)\n",
    "\n",
    "Copies of the field datasheets are available in Appendix A of the [Remote Camera Survey Guidelines](https://ab-rcsc.github.io/RCSC-WildCAM_Remote-Camera-Survey-Guidelines-and-Metadata-Standards/1_survey-guidelines/1_0.1_Citation-and-Info.html) (RCSC et al., 2024)."
   ]
  }
 ],
 "metadata": {
  "editor_options": {
   "markdown": null,
   "wrap": "none"
  },
  "jupytext": {
   "formats": "md:myst",
   "text_representation": {
    "extension": ".md",
    "format_name": "myst",
    "format_version": "0.17.2 <!--0.13-->",
    "jupytext_version": "6.5.4 <!-- 1.16.4-->"
   }
  },
  "kernelspec": {
   "display_name": "Python 3",
   "language": "python",
   "name": "python3"
  },
  "language_info": {
   "codemirror_mode": {
    "name": "ipython",
    "version": 3
   },
   "file_extension": ".py",
   "mimetype": "text/x-python",
   "name": "python",
   "nbconvert_exporter": "python",
   "pygments_lexer": "ipython3",
   "version": "3.12.5"
  },
  "source_map": [
   16
  ]
 },
 "nbformat": 4,
 "nbformat_minor": 5
}