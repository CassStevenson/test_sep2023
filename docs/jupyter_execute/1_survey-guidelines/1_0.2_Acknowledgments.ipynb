{
 "cells": [
  {
   "cell_type": "markdown",
   "id": "df2e1579",
   "metadata": {},
   "source": [
    "<style>\n",
    ".bd-main .bd-content .bd-article-container {\n",
    "    max-width: 80%;  /* default is 60em */\n",
    "  }\n",
    "</style>\n",
    "(TOC_surv_guidelines_acknowledgments)=\n",
    "# Acknowledgments\n",
    "\n",
    "We would like to honour and acknowledge that work contributed by the RCSC took place on the traditional and ancestral land of the nêhiyaw (nay-hee-yow)/Cree, Denesuline (dene-su-lee-neh)/Dene (deh-neyh), Niitsitapi (nit-si-tahp-ee)/Blackfoot, Anishinaabe (ah-nish-in-ah-bay)/Saulteaux (so-toe), Nakota Sioux (na-koh-tah sue), and Métis’ (may-tee) Peoples since time immemorial, and we recognize this history. We would also like to honour and acknowledge that work contributed by the WildCAM Advisory Committee took place on the traditional, ancestral, and unceded territories of the Coast Salish Peoples – the Sḵwx̱wú7mesh (Squamish; squa-mish), Stó:lō and Səl̓ílwətaʔ/Selilwitulh (Tsleil-Waututh; slay-wa-tuth) and xʷməθkʷəy̓əm (Musqueam; mus-kwee-um) Nations – the sngaytskstx (Sinixt; sin-eyekst) and lək̓ʷəŋən (le-kwung-en) Peoples, and the Songhees (song-geez), Esquimalt (es-kwai-malt), and WSÁNEĆ (wh-say-nuch) Peoples whose historical relationships with the land continue to this day. We thank the diverse Indigenous Peoples whose ancestors’ footsteps have marked these territories for centuries. We also acknowledge that this document presents a western science perspective of remote camera science; we hope to incorporate Traditional Knowledge in the future, where respectful and supported by Indigenous Knowledge holders.\n",
    "\n",
    "We would like to thank the many contributing agencies and individuals who prepared this document with guidance from the Alberta Remote Camera Steering Committee (RCSC) and the WildCAM Advisory Committee. These include the Alberta Biodiversity Monitoring Institute (ABMI; Marcus Becker, Greg Brooke, Corrina Copp and Monica Kohler), Alberta Environment and Protected Areas (Anne Hubbs), the Alberta Remote Camera/Steering Committee Coordinator (Cassie Stevenson), and Wildlife Cameras for Adaptive Management (WildCAM; Jamie Clarke, Alexia Constantinou, Alys Granados, Kate McKeown, Laura Stewart).\n",
    "\n",
    "We would also like to thank our funders – The Office of the Chief Scientist (Alberta Environment and Protected Areas) and the Alberta Conservation Association.\n",
    "\n",
    "This document was greatly improved by reviewers from across Alberta and British Columbia. A special thanks to Jason Airst, Rodrigo Ayala, Tyne Baker, Joanna Burgar, Andrew Braid, Lisa Bridges, Kristie Derkson, Philip DeWitt, Alannah Gallo, Saul Greenberg, Dave Evans, Annie Loosen, Christa MacNevin, Sejer Meyhoff, Anna Moeller, Gary Ordog, and Lucas Pittman."
   ]
  }
 ],
 "metadata": {
  "editor_options": {
   "markdown": null,
   "wrap": "none"
  },
  "jupytext": {
   "formats": "md:myst",
   "text_representation": {
    "extension": ".md",
    "format_name": "myst",
    "format_version": "0.17.2 <!--0.13-->",
    "jupytext_version": "6.5.4 <!-- 1.16.4-->"
   }
  },
  "kernelspec": {
   "display_name": "Python 3",
   "language": "python",
   "name": "python3"
  },
  "language_info": {
   "codemirror_mode": {
    "name": "ipython",
    "version": 3
   },
   "file_extension": ".py",
   "mimetype": "text/x-python",
   "name": "python",
   "nbconvert_exporter": "python",
   "pygments_lexer": "ipython3",
   "version": "3.12.5"
  },
  "source_map": [
   16
  ]
 },
 "nbformat": 4,
 "nbformat_minor": 5
}