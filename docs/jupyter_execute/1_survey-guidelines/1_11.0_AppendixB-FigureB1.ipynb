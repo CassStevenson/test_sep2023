{
 "cells": [
  {
   "cell_type": "markdown",
   "id": "6526dcb8",
   "metadata": {},
   "source": [
    "<style>\n",
    "  .bd-main .bd-content .bd-article-container {\n",
    "      max-width: 80%;  /* default is 60em */\n",
    "    }\n",
    "</style>\n",
    "(TOC_surv_guidelines_appendix_b)=\n",
    "# Appendix B\n",
    "\n",
    ":::{figure} ../0_figures/Survey-guidelines_DensityModels.jpg\n",
    ":align: center\n",
    ":name: TOC_surv_guidelines_fig_b1\n",
    ":::\n",
    "\n",
    "**Figure B1.** \"Adapted from Gilbert et al. (2021) and Sun (unpublished). Decision tree for selecting camera trap density models. The models in the yellow rectangle are for marked and partially-marked populations; the remaining models are for unmarked populations. Note, the models in this decision tree are not necessarily ordered from strongest to weakest, but rather are organized by key features\" (Clarke et al., 2022)."
   ]
  }
 ],
 "metadata": {
  "editor_options": {
   "markdown": null,
   "wrap": "none"
  },
  "jupytext": {
   "formats": "md:myst",
   "text_representation": {
    "extension": ".md",
    "format_name": "myst",
    "format_version": "0.17.2 <!--0.13-->",
    "jupytext_version": "6.5.4 <!-- 1.16.4-->"
   }
  },
  "kernelspec": {
   "display_name": "Python 3",
   "language": "python",
   "name": "python3"
  },
  "language_info": {
   "codemirror_mode": {
    "name": "ipython",
    "version": 3
   },
   "file_extension": ".py",
   "mimetype": "text/x-python",
   "name": "python",
   "nbconvert_exporter": "python",
   "pygments_lexer": "ipython3",
   "version": "3.12.5"
  },
  "source_map": [
   16
  ]
 },
 "nbformat": 4,
 "nbformat_minor": 5
}