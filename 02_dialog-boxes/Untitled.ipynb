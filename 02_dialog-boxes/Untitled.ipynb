{
 "cells": [
  {
   "cell_type": "markdown",
   "id": "1d99e0d6-4441-4fef-8582-bced8d5cdab9",
   "metadata": {},
   "source": [
    "---\n",
    "jupytext:\n",
    "  formats: md:myst\n",
    "  text_representation:\n",
    "    extension: .md\n",
    "    format_name: myst\n",
    "    format_version: 0.17.2 <!--0.13-->\n",
    "    jupytext_version: 6.5.4 <!-- 1.16.4-->\n",
    "kernelspec:\n",
    "  display_name: Python 3\n",
    "  language: python\n",
    "  name: python3\n",
    "editor_options: \n",
    "  markdown: \n",
    "  wrap: none\n",
    "---"
   ]
  },
  {
   "cell_type": "markdown",
   "id": "9b66a83e-fc1f-43c0-a93e-6c91d3887f12",
   "metadata": {},
   "source": [
    "# test"
   ]
  },
  {
   "cell_type": "markdown",
   "id": "17d0e905-6483-41dd-a107-8c51837d79b1",
   "metadata": {},
   "source": [
    "<iframe \n",
    "    width=\"100%\"\n",
    "    height=\"300\"\n",
    "    src=\"https://www.rc-decision-support-tool.ca/voila/render/objective.ipynb?\"\n",
    "    frameborder=\"0\"\n",
    "    allow=\"accelerometer; autoplay; clipboard-write; encrypted-media; gyroscope; picture-in-picture\"\n",
    "    allowfullscreen>\n",
    "</iframe>"
   ]
  },
  {
   "cell_type": "markdown",
   "id": "cee5b2ec-c005-4b52-af7d-890976737907",
   "metadata": {},
   "source": [
    "<iframe \n",
    "    width=\"100%\"\n",
    "    height=\"900\"\n",
    "    src=\"https://chao.shinyapps.io/iNEXTOnline\"\n",
    "    frameborder=\"0\" \n",
    "    allow=\"accelerometer; autoplay; clipboard-write; encrypted-media; gyroscope; picture-in-picture\"\n",
    "    allowfullscreen>\n",
    "</iframe>"
   ]
  },
  {
   "cell_type": "markdown",
   "id": "9683f2d6-33d9-4f84-935d-e6cdcf1a397e",
   "metadata": {},
   "source": [
    "<iframe \n",
    "    width=\"100%\"\n",
    "    height=\"900\"\n",
    "    src=\"https://chao.shinyapps.io/iNEXTOnline\"\n",
    "    frameborder=\"0\" \n",
    "    allow=\"accelerometer; autoplay; clipboard-write; encrypted-media; gyroscope; picture-in-picture\"\n",
    "    allowfullscreen>\n",
    "</iframe>"
   ]
  },
  {
   "cell_type": "markdown",
   "id": "cb8a335e-77a1-4fca-b7b7-34c57f21fd4f",
   "metadata": {},
   "source": [
    "```{literalinclude} 03_21_mod_tte.md\n",
    "```"
   ]
  },
  {
   "cell_type": "markdown",
   "id": "da91642d-d6a0-4a58-84cb-05da4eb848ae",
   "metadata": {},
   "source": [
    "```{embed} #myLabel\n",
    "```"
   ]
  }
 ],
 "metadata": {
  "kernelspec": {
   "display_name": "Python 3 (ipykernel)",
   "language": "python",
   "name": "python3"
  },
  "language_info": {
   "codemirror_mode": {
    "name": "ipython",
    "version": 3
   },
   "file_extension": ".py",
   "mimetype": "text/x-python",
   "name": "python",
   "nbconvert_exporter": "python",
   "pygments_lexer": "ipython3",
   "version": "3.12.3"
  }
 },
 "nbformat": 4,
 "nbformat_minor": 5
}
